{
 "cells": [
  {
   "cell_type": "markdown",
   "metadata": {
    "tags": [
     "remove_cell"
    ]
   },
   "source": [
    "# Quantum Teleportation + Noise"
   ]
  },
  {
   "cell_type": "markdown",
   "metadata": {},
   "source": [
    "This notebook demonstrates quantum teleportation. We first use Qiskit's built-in simulators to test our quantum circuit, and then try it out on a real quantum computer.\n",
    "\n",
    "## Contents\n",
    "\n",
    "1. [Overview](#overview)    \n",
    "2. [The Quantum Teleportation Protocol](#how)       \n",
    "3. [Simulating the Teleportation Protocol](#simulating)   \n",
    "    3.1 [How will we Test this Result on a Real Quantum Computer?](#testing)   \n",
    "    3.2 [Using the Statevector Simulator](#simulating-sv)     \n",
    "    3.3 [Using the QASM Simulator](#simulating-qs)  \n",
    "4. [Understanding Quantum Teleportation](#understanding-qt)\n",
    "5. [Teleportation on a Real Quantum Computer](#real_qc)    \n",
    "    5.1 [IBM hardware and Deferred Measurement](#deferred-measurement)    \n",
    "    5.2 [Executing](#executing)    \n",
    "6. [References](#references)\n",
    "\n"
   ]
  },
  {
   "cell_type": "markdown",
   "metadata": {},
   "source": [
    "## 1. Overview <a id='overview'></a>"
   ]
  },
  {
   "cell_type": "markdown",
   "metadata": {},
   "source": [
    "Alice wants to send quantum information to Bob. Specifically, suppose she wants to send the qubit state\n",
    "$\\vert\\psi\\rangle = \\alpha\\vert0\\rangle + \\beta\\vert1\\rangle$. \n",
    "This entails passing on information about $\\alpha$ and $\\beta$ to Bob.\n",
    "\n",
    "There exists a theorem in quantum mechanics which states that you cannot simply make an exact copy of an unknown quantum state. This is known as the no-cloning theorem. As a result of this we can see that Alice can't simply generate a copy of $\\vert\\psi\\rangle$ and give the copy to Bob. We can only copy classical states (not superpositions).\n",
    "\n",
    "However, by taking advantage of two classical bits and an entangled qubit pair, Alice can transfer her state $\\vert\\psi\\rangle$ to Bob. We call this teleportation because, at the end, Bob will have $\\vert\\psi\\rangle$ and Alice won't anymore."
   ]
  },
  {
   "cell_type": "markdown",
   "metadata": {},
   "source": [
    "## 2. The Quantum Teleportation Protocol <a id='how'></a>\n",
    "To transfer a quantum bit, Alice and Bob must use a third party (Telamon) to send them an entangled qubit pair. Alice then performs some operations on her qubit, sends the results to Bob over a classical communication channel, and Bob then performs some operations on his end to receive Alice’s qubit.\n",
    "\n",
    "![teleportation_doodle](images/tele1.jpg)\n",
    "\n",
    "We will describe the steps on a quantum circuit below. Here, no qubits are actually ‘sent’, you’ll just have to imagine that part!\n",
    "\n",
    "First we set up our session:"
   ]
  },
  {
   "cell_type": "code",
   "execution_count": 1,
   "metadata": {
    "tags": [
     "thebelab-init"
    ]
   },
   "outputs": [],
   "source": [
    "# Do the necessary imports\n",
    "import numpy as np\n",
    "from qiskit import QuantumCircuit, QuantumRegister, ClassicalRegister\n",
    "from qiskit import IBMQ, Aer, transpile, assemble\n",
    "from qiskit.visualization import plot_histogram, plot_bloch_multivector\n",
    "from qiskit.extensions import Initialize\n",
    "from qiskit_textbook.tools import random_state, array_to_latex\n",
    "# Do the necessary imports\n",
    "import numpy as np\n",
    "from qiskit import QuantumCircuit, QuantumRegister, ClassicalRegister\n",
    "from qiskit import IBMQ, Aer, transpile, assemble\n",
    "from qiskit.visualization import plot_histogram, plot_bloch_multivector\n",
    "from qiskit.extensions import Initialize\n",
    "from qiskit_textbook.tools import random_state, array_to_latex\n",
    "from qiskit import IBMQ, transpile\n",
    "from qiskit import QuantumCircuit\n",
    "from qiskit.providers.aer import AerSimulator\n",
    "from qiskit.tools.visualization import plot_histogram\n",
    "import qiskit as qk\n",
    "from qiskit import IBMQ, BasicAer\n",
    "from qiskit import QuantumCircuit, QuantumRegister, ClassicalRegister, execute, Aer\n",
    "from qiskit.tools.visualization import plot_histogram\n",
    "from qiskit.tools.monitor import job_monitor, backend_overview\n",
    "from qiskit import QuantumCircuit, ClassicalRegister, QuantumRegister, Aer\n",
    "from qiskit import execute\n",
    "from qiskit.tools.visualization import plot_histogram\n",
    "import numpy as np\n",
    "import matplotlib.pyplot as plt\n",
    "from qiskit.ignis.mitigation.measurement import (complete_meas_cal,CompleteMeasFitter)\n",
    "from qiskit.providers.aer.noise import NoiseModel\n",
    "from qiskit.providers.aer.noise.errors import pauli_error, depolarizing_error , phase_damping_error , amplitude_damping_error\n",
    "from IPython.display import Image\n",
    "from qiskit_textbook.tools import random_state, array_to_latex\n",
    "from qiskit.visualization import plot_histogram, plot_bloch_multivector\n",
    "\n",
    "# Do the necessary imports\n",
    "import numpy as np\n",
    "from qiskit import QuantumCircuit, QuantumRegister, ClassicalRegister\n",
    "from qiskit import IBMQ, Aer, transpile, assemble\n",
    "from qiskit.visualization import plot_histogram, plot_bloch_multivector\n",
    "from qiskit.extensions import Initialize\n",
    "from qiskit_textbook.tools import random_state, array_to_latex\n",
    "# Import libraries\n",
    "import numpy as np\n",
    "from numpy import pi as pi\n",
    "from PIL import Image\n",
    "from collections import OrderedDict\n",
    "import matplotlib.pyplot as plt\n",
    "import sys, random, ast, time\n",
    "from pathlib import Path\n",
    "import re\n",
    "import pandas as pd\n",
    "import inspect\n",
    "\n",
    "# Import Qiskit\n",
    "from qiskit import Aer, IBMQ\n",
    "from qiskit import QuantumCircuit, ClassicalRegister, QuantumRegister, execute\n",
    "from qiskit.tools.monitor import job_monitor\n",
    "from qiskit.tools.visualization import plot_histogram\n",
    "from qiskit.providers.aer import QasmSimulator\n",
    "from qiskit.providers.aer.noise.errors import thermal_relaxation_error, pauli_error\n",
    "from qiskit.providers.aer.noise import NoiseModel\n",
    "from qiskit.providers.aer import noise\n",
    "from qiskit.tools.monitor import backend_monitor\n",
    "from qiskit import QuantumCircuit, execute, Aer\n",
    "from qiskit.visualization import plot_histogram\n",
    "import qiskit.providers.aer.noise as noise"
   ]
  },
  {
   "cell_type": "code",
   "execution_count": 2,
   "metadata": {},
   "outputs": [
    {
     "name": "stderr",
     "output_type": "stream",
     "text": [
      "configrc.store_credentials:WARNING:2021-07-02 15:30:00,914: Credentials already present. Set overwrite=True to overwrite.\n"
     ]
    },
    {
     "name": "stdout",
     "output_type": "stream",
     "text": [
      "Found 1 credentials.\n",
      "No credentials available for updating could be found. No action will be performed.\n",
      "Warnings:\n",
      "The stored account with url \"https://auth.quantum-computing.ibm.com/api\" is already an IBM Q Experience v2 account.\n"
     ]
    },
    {
     "data": {
      "text/plain": [
       "[<IBMQSimulator('ibmq_qasm_simulator') from IBMQ(hub='ibm-q', group='open', project='main')>,\n",
       " <IBMQBackend('ibmqx2') from IBMQ(hub='ibm-q', group='open', project='main')>,\n",
       " <IBMQBackend('ibmq_16_melbourne') from IBMQ(hub='ibm-q', group='open', project='main')>,\n",
       " <IBMQBackend('ibmq_armonk') from IBMQ(hub='ibm-q', group='open', project='main')>,\n",
       " <IBMQBackend('ibmq_athens') from IBMQ(hub='ibm-q', group='open', project='main')>,\n",
       " <IBMQBackend('ibmq_santiago') from IBMQ(hub='ibm-q', group='open', project='main')>,\n",
       " <IBMQBackend('ibmq_lima') from IBMQ(hub='ibm-q', group='open', project='main')>,\n",
       " <IBMQBackend('ibmq_belem') from IBMQ(hub='ibm-q', group='open', project='main')>,\n",
       " <IBMQBackend('ibmq_quito') from IBMQ(hub='ibm-q', group='open', project='main')>,\n",
       " <IBMQSimulator('simulator_statevector') from IBMQ(hub='ibm-q', group='open', project='main')>,\n",
       " <IBMQSimulator('simulator_mps') from IBMQ(hub='ibm-q', group='open', project='main')>,\n",
       " <IBMQSimulator('simulator_extended_stabilizer') from IBMQ(hub='ibm-q', group='open', project='main')>,\n",
       " <IBMQSimulator('simulator_stabilizer') from IBMQ(hub='ibm-q', group='open', project='main')>,\n",
       " <IBMQBackend('ibmq_manila') from IBMQ(hub='ibm-q', group='open', project='main')>]"
      ]
     },
     "execution_count": 2,
     "metadata": {},
     "output_type": "execute_result"
    }
   ],
   "source": [
    "IBMQ.update_account()\n",
    "\n",
    "mytoken = \"e5e478e6c8add11a871103cddaae7d3e88325d6f97fd4dfcd7880c8feed140c4358f3dfc8014a346b3ea8b3f7a6771b15192ced8b096d632d22607b085556594\" ## your token ##\n",
    "IBMQ.save_account(mytoken)\n",
    "\n",
    "provider = IBMQ.load_account()\n",
    "backends = provider.backends()\n",
    "backends"
   ]
  },
  {
   "cell_type": "markdown",
   "metadata": {},
   "source": [
    "and create our quantum circuit:"
   ]
  },
  {
   "cell_type": "code",
   "execution_count": 3,
   "metadata": {},
   "outputs": [],
   "source": [
    "## SETUP\n",
    "# Protocol uses 3 qubits and 2 classical bits in 2 different registers\n",
    "\n",
    "qr = QuantumRegister(3, name=\"q\")    # Protocol uses 3 qubits\n",
    "crz = ClassicalRegister(1, name=\"crz\") # and 2 classical bits\n",
    "crx = ClassicalRegister(1, name=\"crx\") # in 2 different registers\n",
    "teleportation_circuit = QuantumCircuit(qr, crz, crx)"
   ]
  },
  {
   "cell_type": "markdown",
   "metadata": {},
   "source": [
    "#### Step 1\n",
    "A third party, Telamon, creates an entangled pair of qubits and gives one to Bob and one to Alice.\n",
    "\n",
    "The pair Telamon creates is a special pair called a Bell pair. In quantum circuit language, the way to create a Bell pair between two qubits is to first transfer one of them to the X-basis ($|+\\rangle$ and $|-\\rangle$) using a Hadamard gate, and then to apply a CNOT gate onto the other qubit controlled by the one in the X-basis. "
   ]
  },
  {
   "cell_type": "code",
   "execution_count": 4,
   "metadata": {
    "tags": [
     "thebelab-init"
    ]
   },
   "outputs": [],
   "source": [
    "def create_bell_pair(qc, a, b):\n",
    "    \"\"\"Creates a bell pair in qc using qubits a & b\"\"\"\n",
    "    qc.h(a) # Put qubit a into state |+>\n",
    "    qc.cx(a,b) # CNOT with a as control and b as target"
   ]
  },
  {
   "cell_type": "code",
   "execution_count": 5,
   "metadata": {},
   "outputs": [
    {
     "data": {
      "text/html": [
       "<pre style=\"word-wrap: normal;white-space: pre;background: #fff0;line-height: 1.1;font-family: &quot;Courier New&quot;,Courier,monospace\">                 \n",
       "  q_0: ──────────\n",
       "       ┌───┐     \n",
       "  q_1: ┤ H ├──■──\n",
       "       └───┘┌─┴─┐\n",
       "  q_2: ─────┤ X ├\n",
       "            └───┘\n",
       "crz: 1/══════════\n",
       "                 \n",
       "crx: 1/══════════\n",
       "                 </pre>"
      ],
      "text/plain": [
       "                 \n",
       "  q_0: ──────────\n",
       "       ┌───┐     \n",
       "  q_1: ┤ H ├──■──\n",
       "       └───┘┌─┴─┐\n",
       "  q_2: ─────┤ X ├\n",
       "            └───┘\n",
       "crz: 1/══════════\n",
       "                 \n",
       "crx: 1/══════════\n",
       "                 "
      ]
     },
     "execution_count": 5,
     "metadata": {},
     "output_type": "execute_result"
    }
   ],
   "source": [
    "## SETUP\n",
    "# Protocol uses 3 qubits and 2 classical bits in 2 different registers\n",
    "qr = QuantumRegister(3, name=\"q\")\n",
    "crz, crx = ClassicalRegister(1, name=\"crz\"), ClassicalRegister(1, name=\"crx\")\n",
    "teleportation_circuit = QuantumCircuit(qr, crz, crx)\n",
    "\n",
    "## STEP 1\n",
    "# In our case, Telamon entangles qubits q1 and q2\n",
    "# Let's apply this to our circuit:\n",
    "create_bell_pair(teleportation_circuit, 1, 2)\n",
    "# And view the circuit so far:\n",
    "teleportation_circuit.draw()"
   ]
  },
  {
   "cell_type": "markdown",
   "metadata": {},
   "source": [
    "Let's say Alice owns $q_1$ and Bob owns $q_2$ after they part ways.\n",
    "\n",
    "#### Step 2 \n",
    "\n",
    "Alice applies a CNOT gate to $q_1$, controlled by $\\vert\\psi\\rangle$ (the qubit she is trying to send Bob). Then Alice applies a Hadamard gate to $|\\psi\\rangle$. In our quantum circuit, the qubit ($|\\psi\\rangle$) Alice is trying to send is $q_0$:"
   ]
  },
  {
   "cell_type": "code",
   "execution_count": 6,
   "metadata": {
    "tags": [
     "thebelab-init"
    ]
   },
   "outputs": [],
   "source": [
    "def alice_gates(qc, psi, a):\n",
    "    qc.cx(psi, a)\n",
    "    qc.h(psi)"
   ]
  },
  {
   "cell_type": "code",
   "execution_count": 7,
   "metadata": {},
   "outputs": [
    {
     "data": {
      "text/html": [
       "<pre style=\"word-wrap: normal;white-space: pre;background: #fff0;line-height: 1.1;font-family: &quot;Courier New&quot;,Courier,monospace\">                  ░      ┌───┐\n",
       "  q_0: ───────────░───■──┤ H ├\n",
       "       ┌───┐      ░ ┌─┴─┐└───┘\n",
       "  q_1: ┤ H ├──■───░─┤ X ├─────\n",
       "       └───┘┌─┴─┐ ░ └───┘     \n",
       "  q_2: ─────┤ X ├─░───────────\n",
       "            └───┘ ░           \n",
       "crz: 1/═══════════════════════\n",
       "                              \n",
       "crx: 1/═══════════════════════\n",
       "                              </pre>"
      ],
      "text/plain": [
       "                  ░      ┌───┐\n",
       "  q_0: ───────────░───■──┤ H ├\n",
       "       ┌───┐      ░ ┌─┴─┐└───┘\n",
       "  q_1: ┤ H ├──■───░─┤ X ├─────\n",
       "       └───┘┌─┴─┐ ░ └───┘     \n",
       "  q_2: ─────┤ X ├─░───────────\n",
       "            └───┘ ░           \n",
       "crz: 1/═══════════════════════\n",
       "                              \n",
       "crx: 1/═══════════════════════\n",
       "                              "
      ]
     },
     "execution_count": 7,
     "metadata": {},
     "output_type": "execute_result"
    }
   ],
   "source": [
    "## SETUP\n",
    "# Protocol uses 3 qubits and 2 classical bits in 2 different registers\n",
    "qr = QuantumRegister(3, name=\"q\")\n",
    "crz, crx = ClassicalRegister(1, name=\"crz\"), ClassicalRegister(1, name=\"crx\")\n",
    "teleportation_circuit = QuantumCircuit(qr, crz, crx)\n",
    "\n",
    "## STEP 1\n",
    "create_bell_pair(teleportation_circuit, 1, 2)\n",
    "\n",
    "## STEP 2\n",
    "teleportation_circuit.barrier() # Use barrier to separate steps\n",
    "alice_gates(teleportation_circuit, 0, 1)\n",
    "teleportation_circuit.draw()"
   ]
  },
  {
   "cell_type": "markdown",
   "metadata": {},
   "source": [
    "#### Step 3\n",
    "\n",
    "Next, Alice applies a measurement to both qubits that she owns, $q_1$ and $\\vert\\psi\\rangle$, and stores this result in two classical bits. She then sends these two bits to Bob."
   ]
  },
  {
   "cell_type": "code",
   "execution_count": 8,
   "metadata": {
    "tags": [
     "thebelab-init"
    ]
   },
   "outputs": [],
   "source": [
    "def measure_and_send(qc, a, b):\n",
    "    \"\"\"Measures qubits a & b and 'sends' the results to Bob\"\"\"\n",
    "    qc.barrier()\n",
    "    qc.measure(a,0)\n",
    "    qc.measure(b,1)"
   ]
  },
  {
   "cell_type": "code",
   "execution_count": 9,
   "metadata": {},
   "outputs": [
    {
     "data": {
      "text/html": [
       "<pre style=\"word-wrap: normal;white-space: pre;background: #fff0;line-height: 1.1;font-family: &quot;Courier New&quot;,Courier,monospace\">                  ░      ┌───┐ ░ ┌─┐   \n",
       "  q_0: ───────────░───■──┤ H ├─░─┤M├───\n",
       "       ┌───┐      ░ ┌─┴─┐└───┘ ░ └╥┘┌─┐\n",
       "  q_1: ┤ H ├──■───░─┤ X ├──────░──╫─┤M├\n",
       "       └───┘┌─┴─┐ ░ └───┘      ░  ║ └╥┘\n",
       "  q_2: ─────┤ X ├─░────────────░──╫──╫─\n",
       "            └───┘ ░            ░  ║  ║ \n",
       "crz: 1/═══════════════════════════╩══╬═\n",
       "                                  0  ║ \n",
       "                                     ║ \n",
       "crx: 1/══════════════════════════════╩═\n",
       "                                     0 </pre>"
      ],
      "text/plain": [
       "                  ░      ┌───┐ ░ ┌─┐   \n",
       "  q_0: ───────────░───■──┤ H ├─░─┤M├───\n",
       "       ┌───┐      ░ ┌─┴─┐└───┘ ░ └╥┘┌─┐\n",
       "  q_1: ┤ H ├──■───░─┤ X ├──────░──╫─┤M├\n",
       "       └───┘┌─┴─┐ ░ └───┘      ░  ║ └╥┘\n",
       "  q_2: ─────┤ X ├─░────────────░──╫──╫─\n",
       "            └───┘ ░            ░  ║  ║ \n",
       "crz: 1/═══════════════════════════╩══╬═\n",
       "                                  0  ║ \n",
       "                                     ║ \n",
       "crx: 1/══════════════════════════════╩═\n",
       "                                     0 "
      ]
     },
     "execution_count": 9,
     "metadata": {},
     "output_type": "execute_result"
    }
   ],
   "source": [
    "## SETUP\n",
    "# Protocol uses 3 qubits and 2 classical bits in 2 different registers\n",
    "qr = QuantumRegister(3, name=\"q\")\n",
    "crz, crx = ClassicalRegister(1, name=\"crz\"), ClassicalRegister(1, name=\"crx\")\n",
    "teleportation_circuit = QuantumCircuit(qr, crz, crx)\n",
    "\n",
    "## STEP 1\n",
    "create_bell_pair(teleportation_circuit, 1, 2)\n",
    "\n",
    "## STEP 2\n",
    "teleportation_circuit.barrier() # Use barrier to separate steps\n",
    "alice_gates(teleportation_circuit, 0, 1)\n",
    "\n",
    "## STEP 3\n",
    "measure_and_send(teleportation_circuit, 0 ,1)\n",
    "teleportation_circuit.draw()"
   ]
  },
  {
   "cell_type": "markdown",
   "metadata": {},
   "source": [
    "#### Step 4\n",
    "\n",
    "Bob, who already has the qubit $q_2$, then applies the following gates depending on the state of the classical bits:\n",
    "\n",
    "00 $\\rightarrow$ Do nothing\n",
    "\n",
    "01 $\\rightarrow$ Apply $X$ gate\n",
    "\n",
    "10 $\\rightarrow$ Apply $Z$ gate\n",
    "\n",
    "11 $\\rightarrow$ Apply $ZX$ gate\n",
    "\n",
    "(*Note that this transfer of information is purely classical*.)"
   ]
  },
  {
   "cell_type": "code",
   "execution_count": 10,
   "metadata": {
    "tags": [
     "thebelab-init"
    ]
   },
   "outputs": [],
   "source": [
    "# This function takes a QuantumCircuit (qc), integer (qubit)\n",
    "# and ClassicalRegisters (crz & crx) to decide which gates to apply\n",
    "def bob_gates(qc, qubit, crz, crx):\n",
    "    # Here we use c_if to control our gates with a classical\n",
    "    # bit instead of a qubit\n",
    "    qc.x(qubit).c_if(crx, 1) # Apply gates if the registers \n",
    "    qc.z(qubit).c_if(crz, 1) # are in the state '1'"
   ]
  },
  {
   "cell_type": "code",
   "execution_count": 11,
   "metadata": {},
   "outputs": [
    {
     "data": {
      "text/html": [
       "<pre style=\"word-wrap: normal;white-space: pre;background: #fff0;line-height: 1.1;font-family: &quot;Courier New&quot;,Courier,monospace\">                  ░      ┌───┐ ░ ┌─┐    ░               \n",
       "  q_0: ───────────░───■──┤ H ├─░─┤M├────░───────────────\n",
       "       ┌───┐      ░ ┌─┴─┐└───┘ ░ └╥┘┌─┐ ░               \n",
       "  q_1: ┤ H ├──■───░─┤ X ├──────░──╫─┤M├─░───────────────\n",
       "       └───┘┌─┴─┐ ░ └───┘      ░  ║ └╥┘ ░  ┌───┐  ┌───┐ \n",
       "  q_2: ─────┤ X ├─░────────────░──╫──╫──░──┤ X ├──┤ Z ├─\n",
       "            └───┘ ░            ░  ║  ║  ░  └─╥─┘  └─╥─┘ \n",
       "                                  ║  ║       ║   ┌──╨──┐\n",
       "crz: 1/═══════════════════════════╩══╬═══════╬═══╡ = 1 ╞\n",
       "                                  0  ║    ┌──╨──┐└─────┘\n",
       "crx: 1/══════════════════════════════╩════╡ = 1 ╞═══════\n",
       "                                     0    └─────┘       </pre>"
      ],
      "text/plain": [
       "                  ░      ┌───┐ ░ ┌─┐    ░               \n",
       "  q_0: ───────────░───■──┤ H ├─░─┤M├────░───────────────\n",
       "       ┌───┐      ░ ┌─┴─┐└───┘ ░ └╥┘┌─┐ ░               \n",
       "  q_1: ┤ H ├──■───░─┤ X ├──────░──╫─┤M├─░───────────────\n",
       "       └───┘┌─┴─┐ ░ └───┘      ░  ║ └╥┘ ░  ┌───┐  ┌───┐ \n",
       "  q_2: ─────┤ X ├─░────────────░──╫──╫──░──┤ X ├──┤ Z ├─\n",
       "            └───┘ ░            ░  ║  ║  ░  └─╥─┘  └─╥─┘ \n",
       "                                  ║  ║       ║   ┌──╨──┐\n",
       "crz: 1/═══════════════════════════╩══╬═══════╬═══╡ = 1 ╞\n",
       "                                  0  ║    ┌──╨──┐└─────┘\n",
       "crx: 1/══════════════════════════════╩════╡ = 1 ╞═══════\n",
       "                                     0    └─────┘       "
      ]
     },
     "execution_count": 11,
     "metadata": {},
     "output_type": "execute_result"
    }
   ],
   "source": [
    "## SETUP\n",
    "# Protocol uses 3 qubits and 2 classical bits in 2 different registers\n",
    "qr = QuantumRegister(3, name=\"q\")\n",
    "crz, crx = ClassicalRegister(1, name=\"crz\"), ClassicalRegister(1, name=\"crx\")\n",
    "teleportation_circuit = QuantumCircuit(qr, crz, crx)\n",
    "\n",
    "## STEP 1\n",
    "create_bell_pair(teleportation_circuit, 1, 2)\n",
    "\n",
    "## STEP 2\n",
    "teleportation_circuit.barrier() # Use barrier to separate steps\n",
    "alice_gates(teleportation_circuit, 0, 1)\n",
    "\n",
    "## STEP 3\n",
    "measure_and_send(teleportation_circuit, 0, 1)\n",
    "\n",
    "## STEP 4\n",
    "teleportation_circuit.barrier() # Use barrier to separate steps\n",
    "bob_gates(teleportation_circuit, 2, crz, crx)\n",
    "teleportation_circuit.draw()"
   ]
  },
  {
   "cell_type": "markdown",
   "metadata": {},
   "source": [
    "And voila! At the end of this protocol, Alice's qubit has now teleported to Bob."
   ]
  },
  {
   "cell_type": "markdown",
   "metadata": {},
   "source": [
    "## 3. Simulating the Teleportation Protocol <a id='simulating'></a>"
   ]
  },
  {
   "cell_type": "markdown",
   "metadata": {},
   "source": [
    "### 3.1 How Will We Test the Protocol on a Quantum Computer? <a id='testing'></a>"
   ]
  },
  {
   "cell_type": "markdown",
   "metadata": {},
   "source": [
    "In this notebook, we will initialize Alice's qubit in a random state $\\vert\\psi\\rangle$ (`psi`). This state will be created using an `Initialize` gate on $|q_0\\rangle$. In this chapter we use the function `random_state` to choose `psi` for us, but feel free to set `psi` to any qubit state you want."
   ]
  },
  {
   "cell_type": "code",
   "execution_count": 12,
   "metadata": {
    "tags": [
     "thebelab-init"
    ]
   },
   "outputs": [
    {
     "data": {
      "text/latex": [
       "$\\displaystyle \n",
       "|\\psi\\rangle =\\begin{bmatrix}\n",
       "0.63654 + 0.65056i \\\\\n",
       "0.00132 - 0.41424i\n",
       "\\end{bmatrix}\n",
       "$"
      ],
      "text/plain": [
       "<IPython.core.display.Math object>"
      ]
     },
     "metadata": {},
     "output_type": "display_data"
    },
    {
     "name": "stderr",
     "output_type": "stream",
     "text": [
      "/Users/rgomezlu/opt/anaconda3/envs/Qiskit/lib/python3.9/site-packages/qiskit/visualization/bloch.py:69: MatplotlibDeprecationWarning: \n",
      "The M attribute was deprecated in Matplotlib 3.4 and will be removed two minor releases later. Use self.axes.M instead.\n",
      "  x_s, y_s, _ = proj3d.proj_transform(xs3d, ys3d, zs3d, renderer.M)\n"
     ]
    },
    {
     "data": {
      "image/png": "[encoded data removed]",
      "text/plain": [
       "<Figure size 288x288 with 1 Axes>"
      ]
     },
     "execution_count": 12,
     "metadata": {},
     "output_type": "execute_result"
    }
   ],
   "source": [
    "# Create random 1-qubit state\n",
    "psi = random_state(1)\n",
    "\n",
    "# Display it nicely\n",
    "array_to_latex(psi, pretext=\"|\\\\psi\\\\rangle =\")\n",
    "# Show it on a Bloch sphere\n",
    "plot_bloch_multivector(psi)"
   ]
  },
  {
   "cell_type": "markdown",
   "metadata": {},
   "source": [
    "Let's create our initialization instruction to create $|\\psi\\rangle$ from the state $|0\\rangle$:"
   ]
  },
  {
   "cell_type": "code",
   "execution_count": 13,
   "metadata": {
    "tags": [
     "thebelab-init"
    ]
   },
   "outputs": [],
   "source": [
    "init_gate = Initialize(psi)\n",
    "init_gate.label = \"init\""
   ]
  },
  {
   "cell_type": "markdown",
   "metadata": {},
   "source": [
    "(`Initialize` is technically not a gate since it contains a reset operation, and so is not reversible. We call it an 'instruction' instead). If the quantum teleportation circuit works, then at the end of the circuit the qubit $|q_2\\rangle$ will be in this state. We will check this using the statevector simulator."
   ]
  },
  {
   "cell_type": "markdown",
   "metadata": {},
   "source": [
    "### 3.2 Using the Statevector Simulator <a id='simulating-sv'></a>\n",
    "\n",
    "We can use the statevector simulator to verify our qubit has been teleported."
   ]
  },
  {
   "cell_type": "code",
   "execution_count": 14,
   "metadata": {},
   "outputs": [
    {
     "data": {
      "text/html": [
       "<pre style=\"word-wrap: normal;white-space: pre;background: #fff0;line-height: 1.1;font-family: &quot;Courier New&quot;,Courier,monospace\">       ┌──────┐ ░            ░      ┌───┐ ░ ┌─┐                 \n",
       "  q_0: ┤ init ├─░────────────░───■──┤ H ├─░─┤M├─────────────────\n",
       "       └──────┘ ░ ┌───┐      ░ ┌─┴─┐└───┘ ░ └╥┘┌─┐              \n",
       "  q_1: ─────────░─┤ H ├──■───░─┤ X ├──────░──╫─┤M├──────────────\n",
       "                ░ └───┘┌─┴─┐ ░ └───┘      ░  ║ └╥┘ ┌───┐  ┌───┐ \n",
       "  q_2: ─────────░──────┤ X ├─░────────────░──╫──╫──┤ X ├──┤ Z ├─\n",
       "                ░      └───┘ ░            ░  ║  ║  └─╥─┘  └─╥─┘ \n",
       "                                             ║  ║    ║   ┌──╨──┐\n",
       "crz: 1/══════════════════════════════════════╩══╬════╬═══╡ = 1 ╞\n",
       "                                             0  ║ ┌──╨──┐└─────┘\n",
       "crx: 1/═════════════════════════════════════════╩═╡ = 1 ╞═══════\n",
       "                                                0 └─────┘       </pre>"
      ],
      "text/plain": [
       "       ┌──────┐ ░            ░      ┌───┐ ░ ┌─┐                 \n",
       "  q_0: ┤ init ├─░────────────░───■──┤ H ├─░─┤M├─────────────────\n",
       "       └──────┘ ░ ┌───┐      ░ ┌─┴─┐└───┘ ░ └╥┘┌─┐              \n",
       "  q_1: ─────────░─┤ H ├──■───░─┤ X ├──────░──╫─┤M├──────────────\n",
       "                ░ └───┘┌─┴─┐ ░ └───┘      ░  ║ └╥┘ ┌───┐  ┌───┐ \n",
       "  q_2: ─────────░──────┤ X ├─░────────────░──╫──╫──┤ X ├──┤ Z ├─\n",
       "                ░      └───┘ ░            ░  ║  ║  └─╥─┘  └─╥─┘ \n",
       "                                             ║  ║    ║   ┌──╨──┐\n",
       "crz: 1/══════════════════════════════════════╩══╬════╬═══╡ = 1 ╞\n",
       "                                             0  ║ ┌──╨──┐└─────┘\n",
       "crx: 1/═════════════════════════════════════════╩═╡ = 1 ╞═══════\n",
       "                                                0 └─────┘       "
      ]
     },
     "execution_count": 14,
     "metadata": {},
     "output_type": "execute_result"
    }
   ],
   "source": [
    "## SETUP\n",
    "qr = QuantumRegister(3, name=\"q\")   # Protocol uses 3 qubits\n",
    "crz = ClassicalRegister(1, name=\"crz\") # and 2 classical registers\n",
    "crx = ClassicalRegister(1, name=\"crx\")\n",
    "qc = QuantumCircuit(qr, crz, crx)\n",
    "\n",
    "## STEP 0\n",
    "# First, let's initialize Alice's q0\n",
    "qc.append(init_gate, [0])\n",
    "qc.barrier()\n",
    "\n",
    "## STEP 1\n",
    "# Now begins the teleportation protocol\n",
    "create_bell_pair(qc, 1, 2)\n",
    "qc.barrier()\n",
    "\n",
    "## STEP 2\n",
    "# Send q1 to Alice and q2 to Bob\n",
    "alice_gates(qc, 0, 1)\n",
    "\n",
    "## STEP 3\n",
    "# Alice then sends her classical bits to Bob\n",
    "measure_and_send(qc, 0, 1)\n",
    "\n",
    "## STEP 4\n",
    "# Bob decodes qubits\n",
    "bob_gates(qc, 2, crz, crx)\n",
    "\n",
    "# Display the circuit\n",
    "qc.draw()"
   ]
  },
  {
   "cell_type": "markdown",
   "metadata": {},
   "source": [
    "We can see below, using our statevector simulator, that the state of $|q_2\\rangle$ is the same as the state $|\\psi\\rangle$ we created above, while the states of $|q_0\\rangle$ and $|q_1\\rangle$ have been collapsed to either $|0\\rangle$ or $|1\\rangle$. The state $|\\psi\\rangle$ has been teleported from qubit 0 to qubit 2."
   ]
  },
  {
   "cell_type": "code",
   "execution_count": 15,
   "metadata": {},
   "outputs": [
    {
     "name": "stderr",
     "output_type": "stream",
     "text": [
      "/Users/rgomezlu/opt/anaconda3/envs/Qiskit/lib/python3.9/site-packages/qiskit/visualization/bloch.py:69: MatplotlibDeprecationWarning: \n",
      "The M attribute was deprecated in Matplotlib 3.4 and will be removed two minor releases later. Use self.axes.M instead.\n",
      "  x_s, y_s, _ = proj3d.proj_transform(xs3d, ys3d, zs3d, renderer.M)\n"
     ]
    },
    {
     "data": {
      "image/png": "[encoded data removed]",
      "text/plain": [
       "<Figure size 864x288 with 3 Axes>"
      ]
     },
     "execution_count": 15,
     "metadata": {},
     "output_type": "execute_result"
    }
   ],
   "source": [
    "sv_sim = Aer.get_backend('statevector_simulator')\n",
    "qobj = assemble(qc)\n",
    "out_vector = sv_sim.run(qobj).result().get_statevector()\n",
    "plot_bloch_multivector(out_vector)"
   ]
  },
  {
   "cell_type": "markdown",
   "metadata": {},
   "source": [
    "You can run this cell a few times to make sure. You may notice that the qubits 0 & 1 change states, but qubit 2 is always in the state $|\\psi\\rangle$."
   ]
  },
  {
   "cell_type": "markdown",
   "metadata": {},
   "source": [
    "### 3.3 Using the QASM Simulator <a id='simulating-qs'></a>\n",
    "\n",
    "Quantum teleportation is designed to send qubits between two parties. We do not have the hardware to demonstrate this, but we can demonstrate that the gates perform the correct transformations on a single quantum chip. Here we use the QASM simulator to simulate how we might test our protocol.\n",
    "\n",
    "On a real quantum computer, we would not be able to sample the statevector, so if we wanted to check our teleportation circuit is working, we need to do things slightly differently. The `Initialize` instruction first performs a reset, setting our qubit to the state $|0\\rangle$. It then applies gates to turn our $|0\\rangle$ qubit into the state $|\\psi\\rangle$:\n",
    "\n",
    "$$ |0\\rangle \\xrightarrow{\\text{Initialize gates}} |\\psi\\rangle $$\n",
    "\n",
    "Since all quantum gates are reversible, we can find the inverse of these gates using:"
   ]
  },
  {
   "cell_type": "code",
   "execution_count": 16,
   "metadata": {
    "tags": [
     "thebelab-init"
    ]
   },
   "outputs": [],
   "source": [
    "inverse_init_gate = init_gate.gates_to_uncompute()"
   ]
  },
  {
   "cell_type": "markdown",
   "metadata": {},
   "source": [
    "This operation has the property:\n",
    "\n",
    "$$ |\\psi\\rangle \\xrightarrow{\\text{Inverse Initialize gates}} |0\\rangle $$\n",
    "\n",
    "To prove the qubit $|q_0\\rangle$ has been teleported to $|q_2\\rangle$, if we do this inverse initialization on $|q_2\\rangle$, we expect to measure $|0\\rangle$ with certainty. We do this in the circuit below:"
   ]
  },
  {
   "cell_type": "code",
   "execution_count": 17,
   "metadata": {},
   "outputs": [],
   "source": [
    "def new_bob_gates(qc, a, b, c):\n",
    "    qc.cx(b, c)\n",
    "    qc.cz(a, c)"
   ]
  },
  {
   "cell_type": "code",
   "execution_count": 18,
   "metadata": {},
   "outputs": [
    {
     "data": {
      "text/html": [
       "<pre style=\"word-wrap: normal;white-space: pre;background: #fff0;line-height: 1.1;font-family: &quot;Courier New&quot;,Courier,monospace\">      ┌──────┐ ░            ░      ┌───┐                   \n",
       " q_0: ┤ init ├─░────────────░───■──┤ H ├─■─────────────────\n",
       "      └──────┘ ░ ┌───┐      ░ ┌─┴─┐└───┘ │                 \n",
       " q_1: ─────────░─┤ H ├──■───░─┤ X ├──■───┼─────────────────\n",
       "               ░ └───┘┌─┴─┐ ░ └───┘┌─┴─┐ │ ┌──────────────┐\n",
       " q_2: ─────────░──────┤ X ├─░──────┤ X ├─■─┤ disentangler ├\n",
       "               ░      └───┘ ░      └───┘   └──────────────┘\n",
       "cr: 1/═════════════════════════════════════════════════════\n",
       "                                                           </pre>"
      ],
      "text/plain": [
       "      ┌──────┐ ░            ░      ┌───┐                   \n",
       " q_0: ┤ init ├─░────────────░───■──┤ H ├─■─────────────────\n",
       "      └──────┘ ░ ┌───┐      ░ ┌─┴─┐└───┘ │                 \n",
       " q_1: ─────────░─┤ H ├──■───░─┤ X ├──■───┼─────────────────\n",
       "               ░ └───┘┌─┴─┐ ░ └───┘┌─┴─┐ │ ┌──────────────┐\n",
       " q_2: ─────────░──────┤ X ├─░──────┤ X ├─■─┤ disentangler ├\n",
       "               ░      └───┘ ░      └───┘   └──────────────┘\n",
       "cr: 1/═════════════════════════════════════════════════════\n",
       "                                                           "
      ]
     },
     "execution_count": 18,
     "metadata": {},
     "output_type": "execute_result"
    }
   ],
   "source": [
    "## SETUP\n",
    "qr = QuantumRegister(3, name=\"q\")   # Protocol uses 3 qubits\n",
    "#crz = ClassicalRegister(1, name=\"crz\") # and 2 classical registers\n",
    "#crx = ClassicalRegister(1, name=\"crx\")\n",
    "cr = ClassicalRegister(1, name=\"cr\")\n",
    "qc = QuantumCircuit(qr, cr)\n",
    "\n",
    "## STEP 0\n",
    "# First, let's initialize Alice's q0\n",
    "qc.append(init_gate, [0])\n",
    "qc.barrier()\n",
    "\n",
    "## STEP 1\n",
    "# Now begins the teleportation protocol\n",
    "create_bell_pair(qc, 1, 2)\n",
    "qc.barrier()\n",
    "\n",
    "## STEP 2\n",
    "# Send q1 to Alice and q2 to Bob\n",
    "alice_gates(qc, 0, 1)\n",
    "\n",
    "## STEP 3\n",
    "# Alice then sends her classical bits to Bob\n",
    "#measure_and_send(qc, 0, 1)\n",
    "\n",
    "## STEP 4\n",
    "# Bob decodes qubits\n",
    "#bob_gates(qc, 2, crz, crx)\n",
    "# Alice sends classical bits to Bob\n",
    "new_bob_gates(qc, 0, 1, 2)\n",
    "\n",
    "## STEP 5\n",
    "# reverse the initialization process\n",
    "qc.append(inverse_init_gate, [2])\n",
    "\n",
    "# Display the circuit\n",
    "qc.draw()"
   ]
  },
  {
   "cell_type": "markdown",
   "metadata": {},
   "source": [
    "We can see the `inverse_init_gate` appearing, labelled 'disentangler' on the circuit diagram. Finally, we measure the third qubit and store the result in the third classical bit:"
   ]
  },
  {
   "cell_type": "code",
   "execution_count": 19,
   "metadata": {},
   "outputs": [
    {
     "data": {
      "text/html": [
       "<pre style=\"word-wrap: normal;white-space: pre;background: #fff0;line-height: 1.1;font-family: &quot;Courier New&quot;,Courier,monospace\">      ┌──────┐ ░            ░      ┌───┐                      \n",
       " q_0: ┤ init ├─░────────────░───■──┤ H ├─■────────────────────\n",
       "      └──────┘ ░ ┌───┐      ░ ┌─┴─┐└───┘ │                    \n",
       " q_1: ─────────░─┤ H ├──■───░─┤ X ├──■───┼────────────────────\n",
       "               ░ └───┘┌─┴─┐ ░ └───┘┌─┴─┐ │ ┌──────────────┐┌─┐\n",
       " q_2: ─────────░──────┤ X ├─░──────┤ X ├─■─┤ disentangler ├┤M├\n",
       "               ░      └───┘ ░      └───┘   └──────────────┘└╥┘\n",
       "cr: 1/══════════════════════════════════════════════════════╩═\n",
       "                                                            0 </pre>"
      ],
      "text/plain": [
       "      ┌──────┐ ░            ░      ┌───┐                      \n",
       " q_0: ┤ init ├─░────────────░───■──┤ H ├─■────────────────────\n",
       "      └──────┘ ░ ┌───┐      ░ ┌─┴─┐└───┘ │                    \n",
       " q_1: ─────────░─┤ H ├──■───░─┤ X ├──■───┼────────────────────\n",
       "               ░ └───┘┌─┴─┐ ░ └───┘┌─┴─┐ │ ┌──────────────┐┌─┐\n",
       " q_2: ─────────░──────┤ X ├─░──────┤ X ├─■─┤ disentangler ├┤M├\n",
       "               ░      └───┘ ░      └───┘   └──────────────┘└╥┘\n",
       "cr: 1/══════════════════════════════════════════════════════╩═\n",
       "                                                            0 "
      ]
     },
     "execution_count": 19,
     "metadata": {},
     "output_type": "execute_result"
    }
   ],
   "source": [
    "# Need to add a new ClassicalRegister\n",
    "# to see the result\n",
    "#cr_result = ClassicalRegister(1)\n",
    "#qc.add_register(cr_result)\n",
    "qc.measure(2,0)\n",
    "qc.draw()"
   ]
  },
  {
   "cell_type": "markdown",
   "metadata": {},
   "source": [
    "and we run our experiment:"
   ]
  },
  {
   "cell_type": "code",
   "execution_count": 20,
   "metadata": {},
   "outputs": [
    {
     "data": {
      "image/png": "[encoded data removed]",
      "text/plain": [
       "<Figure size 504x360 with 1 Axes>"
      ]
     },
     "execution_count": 20,
     "metadata": {},
     "output_type": "execute_result"
    }
   ],
   "source": [
    "qasm_sim = Aer.get_backend('qasm_simulator')\n",
    "t_qc = transpile(qc, qasm_sim)\n",
    "qobj = assemble(t_qc)\n",
    "counts = qasm_sim.run(qobj).result().get_counts()\n",
    "plot_histogram(counts)"
   ]
  },
  {
   "cell_type": "markdown",
   "metadata": {},
   "source": [
    "We can see we have a 100% chance of measuring $q_2$ (the leftmost bit in the string) in the state $|0\\rangle$. This is the expected result, and indicates the teleportation protocol has worked properly."
   ]
  },
  {
   "cell_type": "markdown",
   "metadata": {},
   "source": [
    "## Once we have the circuit we build the Noise models and apply them to the circuit"
   ]
  },
  {
   "cell_type": "code",
   "execution_count": 21,
   "metadata": {},
   "outputs": [
    {
     "name": "stdout",
     "output_type": "stream",
     "text": [
      "8.106666666666666e-07\n",
      "5.35111111111111e-06\n",
      "35.55555555555556\n",
      "35.55555555555556\n"
     ]
    }
   ],
   "source": [
    "# Some useful functions\n",
    "def getSQGateExecutionTime(gate, backend, names):\n",
    "    '''Returns the average execution time of the single-qubit type gates we are interested in.'''\n",
    "    # Single qubit gates\n",
    "    s = [0]*len(names)\n",
    "    for i in range(0,len(names)):\n",
    "        #s[i] = backend.properties().gate_length(gate, [i])\n",
    "        s[i] = backend.properties().gate_length(gate, [i])\n",
    "    return (np.mean(s)*(10**9))\n",
    "#backend = provider.backend.ibmq_16_melbourne\n",
    "#backend = provider.backend.ibmq_lima\n",
    "backend = provider.backend.ibmq_belem\n",
    "#backend = provider.backend.ibmqx2\n",
    "print(backend.properties().gate_length('cx',(0,1)))\n",
    "print(backend.properties().readout_length(2))\n",
    "names = [0, 1, 2] # The single-qubit gates that we are interested in\n",
    "gate = \"id\"\n",
    "s = getSQGateExecutionTime(gate,backend,names)\n",
    "print(s)\n",
    "print(backend.properties().gate_length(\"x\",0)*(10**9))\n",
    "def getDecoherenceTimes(data):\n",
    "    '''Returns the thermal relaxation time T1 and the qubit dephasing time T2, as given by IBMQ.'''\n",
    "    t1er = data[\"T1 (us)\"].tolist()\n",
    "    \n",
    "    t2er = data[\"T2 (us)\"].tolist()\n",
    "    \n",
    "\n",
    "    #for i in range(0, len(t1er)):\n",
    "        #t1er[i] = float(t1er[i] + \"e3\")\n",
    "        #t2er[i] = float(t2er[i] + \"e3\") ##Check order of magnitude????\n",
    "\n",
    "    T1s = np.array(t1er)\n",
    "    T2s = np.array(t2er)\n",
    "    \n",
    "    # Check for error in IBMQ's measurements (i.e it must always be T2 <= 2T1)\n",
    "    c = 0\n",
    "    for i in range(0,len(T1s)):\n",
    "        if (T2s[i] > 2*T1s[i]):\n",
    "            c = 1\n",
    "            print(\"ERROR: incompatible decay rates - Qubit Q\" + str(i) + \", T2 =\", T2s[i], \"and T1 =\", T1s[i])\n",
    "    if (c == 0):\n",
    "        print(r'Checking decoherence times: all ok')\n",
    "\n",
    "    return T1s*1000,T2s*1000\n",
    "def getSQGateExecutionTime(gate, backend, names):\n",
    "    '''Returns the average execution time of the single-qubit type gates we are interested in.'''\n",
    "    # Single qubit gates\n",
    "    s = [0]*len(names)\n",
    "    for i in range(0,len(names)):\n",
    "        s[i] = backend.properties().gate_length(gate, [i])\n",
    "\n",
    "    return (np.mean(s)*(10**9))\n",
    "def getTQGateExecutionTime(gate, backend, graph):\n",
    "    '''Returns the average execution time of the two-qubit type gates in the circuit.'''\n",
    "    # Two qubit gates\n",
    "\n",
    "    t = [0]*len(graph)\n",
    "    for i in range(0,len(graph)):\n",
    "        t[i] = backend.properties().gate_length('cx', graph[i])\n",
    "\n",
    "    return (np.mean(t)*(10**9))\n",
    "def getMeasExecutionTime(backend, names):\n",
    "    '''Returns the average measure time of the single-qubit we are interested in.'''\n",
    "    # Single qubit gates\n",
    "    s = [0]*len(names)\n",
    "    for i in range(0,len(names)):\n",
    "        s[i] = backend.properties().readout_length(i)\n",
    "    return (np.mean(s))\n",
    "def getSQGateErrorAvg(gate, backend, names):\n",
    "    '''Returns the average execution time of the single-qubit type gates we are interested in.'''\n",
    "    # Single qubit gates\n",
    "    s = [0]*len(names)\n",
    "    for i in range(0,len(names)):\n",
    "        s[i] = backend.properties().gate_error(gate, [i])\n",
    "\n",
    "    return (np.mean(s))\n",
    "def getTQGateErrorAvg(gate, backend, graph):\n",
    "    '''Returns the average execution time of the two-qubit type gates in the circuit.'''\n",
    "    # Two qubit gates\n",
    "\n",
    "    t = [0]*len(graph)\n",
    "    for i in range(0,len(graph)):\n",
    "        t[i] = backend.properties().gate_error('cx', graph[i])\n",
    "\n",
    "    return (np.mean(t))\n",
    "def getMeasErorrAvg(backend, names):\n",
    "    '''Returns the average measure time of the single-qubit we are interested in.'''\n",
    "    # Single qubit gates\n",
    "    s = [0]*len(names)\n",
    "    for i in range(0,len(names)):\n",
    "        s[i] = backend.properties().readout_error(i)\n",
    "    return (np.mean(s))"
   ]
  },
  {
   "cell_type": "markdown",
   "metadata": {},
   "source": [
    "## DEPOLARIZING CHANNEL USING ONLY ONE PROPERTY OF THE QUBIT"
   ]
  },
  {
   "cell_type": "code",
   "execution_count": 22,
   "metadata": {},
   "outputs": [
    {
     "name": "stdout",
     "output_type": "stream",
     "text": [
      "5.35111111111111e-06\n"
     ]
    }
   ],
   "source": [
    "# Create the error channels\n",
    "\n",
    "prob_1 = backend.properties().gate_error('x',1)\n",
    "prob_2 = backend.properties().gate_error('cx',(0,1))\n",
    "p_error = backend.properties().readout_error(0)\n",
    "print(backend.properties().readout_length(0))\n",
    "\n",
    "# Depolarizing quantum errors\n",
    "error_1 = noise.depolarizing_error(prob_1, 1)\n",
    "error_2 = noise.depolarizing_error(prob_2, 2)\n",
    "\n",
    "\n",
    "# State preparation and Measurement (SPAM) Channel\n",
    "\n",
    "bit_flip = pauli_error([('X', p_error), ('I', 1 - p_error)])\n",
    "\n",
    "\n",
    "\n",
    "#time_reset = 1000  # 1 microsecond\n",
    "#time_measure = 1000 # 1 microsecond\n",
    "noise_thermal = NoiseModel()\n",
    "\n",
    "noise_thermal.add_all_qubit_quantum_error(bit_flip, \"reset\")\n",
    "noise_thermal.add_all_qubit_quantum_error(bit_flip, \"measure\")\n",
    "noise_thermal.add_all_qubit_quantum_error(error_1, [\"h\",\"x\",\"z\"])\n",
    "noise_thermal.add_all_qubit_quantum_error(error_2, \"cx\")\n",
    "\n",
    "\n",
    "\n"
   ]
  },
  {
   "cell_type": "code",
   "execution_count": 23,
   "metadata": {},
   "outputs": [
    {
     "name": "stdout",
     "output_type": "stream",
     "text": [
      "{'1': 64, '0': 960}\n"
     ]
    }
   ],
   "source": [
    "## We execute the circuit with this noise model\n",
    "simulate = execute(qc, backend = Aer.get_backend(\"qasm_simulator\"), basis_gates=noise_thermal.basis_gates, \n",
    "                               noise_model=noise_thermal, shots=1024).result()\n",
    "counts1 = simulate.get_counts()\n",
    "plot_histogram(counts1)\n",
    "print(counts1)"
   ]
  },
  {
   "cell_type": "markdown",
   "metadata": {},
   "source": [
    "## DEPOLARIZING CHANNEL USING THE PROPERTIES OF EACH QUBIT"
   ]
  },
  {
   "cell_type": "code",
   "execution_count": 24,
   "metadata": {},
   "outputs": [
    {
     "name": "stdout",
     "output_type": "stream",
     "text": [
      "5.35111111111111e-06\n"
     ]
    }
   ],
   "source": [
    "# Create the error channels\n",
    "\n",
    "prob_10 = backend.properties().gate_error('x',0)\n",
    "prob_11 = backend.properties().gate_error('x',1)\n",
    "prob_12 = backend.properties().gate_error('x',2)\n",
    "\n",
    "prob_20 = backend.properties().gate_error('cx',(0,1))\n",
    "prob_21 = backend.properties().gate_error('cx',(1,2))\n",
    "p_error0 = backend.properties().readout_error(0)\n",
    "p_error1 = backend.properties().readout_error(1)\n",
    "p_error2 = backend.properties().readout_error(2)\n",
    "print(backend.properties().readout_length(0))\n",
    "\n",
    "# Depolarizing quantum errors\n",
    "error_10 = noise.depolarizing_error(prob_10, 1)\n",
    "error_11 = noise.depolarizing_error(prob_11, 1)\n",
    "error_12 = noise.depolarizing_error(prob_12, 1)\n",
    "error_20 = noise.depolarizing_error(prob_20, 2)\n",
    "error_21 = noise.depolarizing_error(prob_20, 2)\n",
    "\n",
    "\n",
    "# State preparation and Measurement (SPAM) Channel\n",
    "\n",
    "bit_flip0 = pauli_error([('X', p_error0), ('I', 1 - p_error0)])\n",
    "bit_flip1 = pauli_error([('X', p_error1), ('I', 1 - p_error1)])\n",
    "bit_flip2 = pauli_error([('X', p_error2), ('I', 1 - p_error2)])\n",
    "\n",
    "noise_thermal = NoiseModel()\n",
    "\n",
    "noise_thermal.add_quantum_error(bit_flip0, \"reset\",[0])\n",
    "noise_thermal.add_quantum_error(bit_flip1, \"reset\",[1])\n",
    "noise_thermal.add_quantum_error(bit_flip2, \"reset\",[2])\n",
    "noise_thermal.add_quantum_error(bit_flip0, \"measure\",[0])\n",
    "noise_thermal.add_quantum_error(bit_flip1, \"measure\",[1])\n",
    "noise_thermal.add_quantum_error(bit_flip2, \"measure\",[2])\n",
    "noise_thermal.add_quantum_error(error_10, [\"h\",\"x\",\"z\"],[0])\n",
    "noise_thermal.add_quantum_error(error_11, [\"h\",\"x\",\"z\"],[1])\n",
    "noise_thermal.add_quantum_error(error_12, [\"h\",\"x\",\"z\"],[2])\n",
    "\n",
    "noise_thermal.add_quantum_error(error_20, \"cx\",(0,1))\n",
    "noise_thermal.add_quantum_error(error_20, \"cx\",(1,2))"
   ]
  },
  {
   "cell_type": "code",
   "execution_count": 25,
   "metadata": {},
   "outputs": [
    {
     "name": "stdout",
     "output_type": "stream",
     "text": [
      "{'1': 68, '0': 956}\n"
     ]
    },
    {
     "data": {
      "image/png": "[encoded data removed]",
      "text/plain": [
       "<Figure size 504x360 with 1 Axes>"
      ]
     },
     "execution_count": 25,
     "metadata": {},
     "output_type": "execute_result"
    }
   ],
   "source": [
    "## We run the model\n",
    "simulate = execute(qc, backend = Aer.get_backend(\"qasm_simulator\"), basis_gates=noise_thermal.basis_gates, \n",
    "                               noise_model=noise_thermal, shots=1024).result()\n",
    "counts2 = simulate.get_counts()\n",
    "print(counts2)\n",
    "\n",
    "plot_histogram(counts2)"
   ]
  },
  {
   "cell_type": "markdown",
   "metadata": {},
   "source": [
    "## DEPOLARIZING CHANNEL USING AVERAGED PROPERTIES OF THE QUBITS"
   ]
  },
  {
   "cell_type": "code",
   "execution_count": 26,
   "metadata": {},
   "outputs": [],
   "source": [
    "# Create the error channels\n",
    "\n",
    "graph = [[0,1], [1,2]] # The two-qubit gates that we are interested in\n",
    "names = [0, 1, 2] # The single-qubit gates that we are interested in\n",
    "# Instruction times (in nanoseconds)\n",
    "prob_1 = getSQGateErrorAvg('x', backend, names)\n",
    "\n",
    "prob_2 = getTQGateErrorAvg('cx', backend, graph)\n",
    "p_error = getMeasErorrAvg(backend, names)\n",
    "\n",
    "\n",
    "\n",
    "# Depolarizing quantum errors\n",
    "error_1 = noise.depolarizing_error(prob_1, 1)\n",
    "error_2 = noise.depolarizing_error(prob_2, 2)\n",
    "\n",
    "\n",
    "# State preparation and Measurement (SPAM) Channel\n",
    "\n",
    "bit_flip = pauli_error([('X', p_error), ('I', 1 - p_error)])\n",
    "\n",
    "\n",
    "\n",
    "#time_reset = 1000  # 1 microsecond\n",
    "#time_measure = 1000 # 1 microsecond\n",
    "noise_thermal = NoiseModel()\n",
    "\n",
    "noise_thermal.add_all_qubit_quantum_error(bit_flip, \"reset\")\n",
    "noise_thermal.add_all_qubit_quantum_error(bit_flip, \"measure\")\n",
    "noise_thermal.add_all_qubit_quantum_error(error_1, [\"h\",\"x\",\"z\"])\n",
    "noise_thermal.add_all_qubit_quantum_error(error_2, \"cx\")"
   ]
  },
  {
   "cell_type": "code",
   "execution_count": 27,
   "metadata": {},
   "outputs": [
    {
     "name": "stdout",
     "output_type": "stream",
     "text": [
      "{'1': 53, '0': 971}\n"
     ]
    },
    {
     "data": {
      "image/png": "[encoded data removed]",
      "text/plain": [
       "<Figure size 504x360 with 1 Axes>"
      ]
     },
     "execution_count": 27,
     "metadata": {},
     "output_type": "execute_result"
    }
   ],
   "source": [
    "## We run the model\n",
    "simulate = execute(qc, backend = Aer.get_backend(\"qasm_simulator\"), basis_gates=noise_thermal.basis_gates, \n",
    "                               noise_model=noise_thermal, shots=1024).result()\n",
    "counts3 = simulate.get_counts()\n",
    "print(counts3)\n",
    "plot_histogram(counts3)"
   ]
  },
  {
   "cell_type": "markdown",
   "metadata": {},
   "source": [
    "## DEPOLARIZING + THERMAL RELAXATION CHANNELS USING AVERAGED PROPERTIES OF THE QUBITS FOR THE DEPOLARIZING CHANNEL"
   ]
  },
  {
   "cell_type": "code",
   "execution_count": 28,
   "metadata": {},
   "outputs": [
    {
     "name": "stdout",
     "output_type": "stream",
     "text": [
      "5.35111111111111e-06\n",
      "Checking decoherence times: all ok\n",
      "5.35111111111111e-06\n",
      "QuantumError on 1 qubits. Noise circuits:\n",
      "  P(0) = 1.0, QasmQobjInstructions = [[{'name': 'id', 'qubits': [0]}]\n",
      "QuantumError on 1 qubits. Noise circuits:\n",
      "  P(0) = 1.0, QasmQobjInstructions = [[{'name': 'kraus', 'qubits': [0], 'params': [array([[-0.99985018+0.j,  0.        +0.j],\n",
      "       [ 0.        +0.j, -0.99963315+0.j]]), array([[-0.01211744+0.j,  0.        +0.j],\n",
      "       [ 0.        +0.j,  0.01212007+0.j]]), array([[0.       +0.j, 0.       +0.j],\n",
      "       [0.0123604+0.j, 0.       +0.j]]), array([[0.        +0.j, 0.02422107+0.j],\n",
      "       [0.        +0.j, 0.        +0.j]])]}]\n",
      "NoiseModel:\n",
      "  Basis gates: ['cx', 'h', 'id', 'p', 'u', 'u3', 'x', 'z']\n",
      "  Instructions with noise: ['x', 'h', 'reset', 'measure', 'cx', 'p', 'z', 'u']\n",
      "  Qubits with noise: [0, 1, 2, 3, 4]\n",
      "  Specific qubit errors: [('reset', [0]), ('reset', [1]), ('reset', [2]), ('reset', [3]), ('reset', [4]), ('measure', [0]), ('measure', [1]), ('measure', [2]), ('measure', [3]), ('measure', [4]), ('p', [0]), ('p', [1]), ('p', [2]), ('p', [3]), ('p', [4]), ('h', [0]), ('h', [1]), ('h', [2]), ('h', [3]), ('h', [4]), ('x', [0]), ('x', [1]), ('x', [2]), ('x', [3]), ('x', [4]), ('z', [0]), ('z', [1]), ('z', [2]), ('z', [3]), ('z', [4]), ('u', [0]), ('u', [1]), ('u', [2]), ('u', [3]), ('u', [4]), ('cx', [0, 0]), ('cx', [0, 1]), ('cx', [0, 2]), ('cx', [0, 3]), ('cx', [0, 4]), ('cx', [1, 0]), ('cx', [1, 1]), ('cx', [1, 2]), ('cx', [1, 3]), ('cx', [1, 4]), ('cx', [2, 0]), ('cx', [2, 1]), ('cx', [2, 2]), ('cx', [2, 3]), ('cx', [2, 4]), ('cx', [3, 0]), ('cx', [3, 1]), ('cx', [3, 2]), ('cx', [3, 3]), ('cx', [3, 4]), ('cx', [4, 0]), ('cx', [4, 1]), ('cx', [4, 2]), ('cx', [4, 3]), ('cx', [4, 4])]\n"
     ]
    }
   ],
   "source": [
    "# Create the error channels\n",
    " \n",
    "prob_10 = backend.properties().gate_error('x',0)\n",
    "prob_11 = backend.properties().gate_error('x',1)\n",
    "prob_12 = backend.properties().gate_error('x',2)\n",
    "\n",
    "prob_20 = backend.properties().gate_error('cx',(0,1))\n",
    "prob_21 = backend.properties().gate_error('cx',(1,2))\n",
    "p_error0 = backend.properties().readout_error(0)\n",
    "p_error1 = backend.properties().readout_error(1)\n",
    "p_error2 = backend.properties().readout_error(2)\n",
    "print(backend.properties().readout_length(0))\n",
    "\n",
    "###\n",
    "prob_1 = getSQGateErrorAvg('x', backend, names)\n",
    "\n",
    "prob_2 = getTQGateErrorAvg('cx', backend, graph)\n",
    "p_error = getMeasErorrAvg(backend, names)\n",
    "\n",
    "# Depolarizing quantum errors\n",
    "error_10 = noise.depolarizing_error(prob_10, 1)\n",
    "error_11 = noise.depolarizing_error(prob_11, 1)\n",
    "error_12 = noise.depolarizing_error(prob_12, 1)\n",
    "error_20 = noise.depolarizing_error(prob_20, 2)\n",
    "error_21 = noise.depolarizing_error(prob_20, 2)\n",
    "error_1 = noise.depolarizing_error(prob_1, 1)\n",
    "error_2 = noise.depolarizing_error(prob_2, 1)\n",
    "\n",
    "\n",
    "# State preparation and Measurement (SPAM) Channel\n",
    "\n",
    "bit_flip =  pauli_error([('X', p_error), ('I', 1 - p_error)])\n",
    "bit_flip0 = pauli_error([('X', p_error0), ('I', 1 - p_error0)])\n",
    "bit_flip1 = pauli_error([('X', p_error1), ('I', 1 - p_error1)])\n",
    "bit_flip2 = pauli_error([('X', p_error2), ('I', 1 - p_error2)])\n",
    "\n",
    "# Thermal Relaxation Channel\n",
    "#data = pd.read_csv(\"/Users/rgomezlu/Google_Drive/Màster/TFM/Programació/qnoisecomb-master/ibmq_16_melbourne_calibrations.csv\")\n",
    "data = pd.read_csv(\"/Users/rgomezlu/Google_Drive/Màster/TFM/Programació/qnoisecomb-master/ibmq_belem_calibrations.csv\")\n",
    "T1s,T2s = getDecoherenceTimes(data)\n",
    "# T1 and T2 values for qubits 0-3\n",
    "#T1s = np.random.normal(50e3, 10e3, 4) # Sampled from normal distribution mean 50 microsec\n",
    "#T2s = np.random.normal(70e3, 10e3, 4)  # Sampled from normal distribution mean 50 microsec\n",
    "\n",
    "# Truncate random T2s <= T1s\n",
    "#T2s = np.array([min(T2s[j], 2 * T1s[j]) for j in range(4)])\n",
    "graph = [[0,1], [1,2]] # The two-qubit gates that we are interested in\n",
    "names = [0, 1, 2] # The single-qubit gates that we are interested in\n",
    "# Instruction times (in nanoseconds)\n",
    "time_u1 = 10 # virtual gate\n",
    "time_x = getSQGateExecutionTime('x', backend, names) # Average of all u2 times\n",
    "#time_u3 = getSQGateExecutionTime('x', backend, gates) # Average of all u3 times\n",
    "time_cx = getTQGateExecutionTime('cx', backend, graph) # Average of all cx times\n",
    "time_reset = getMeasExecutionTime(backend, names)# Average of all meas times\n",
    "time_measure = getMeasExecutionTime(backend, names)# Average of reset times \n",
    "print(time_measure)\n",
    "#time_reset = 1000  # 1 microsecond\n",
    "#time_measure = 1000 # 1 microsecond\n",
    "\n",
    "# QuantumError objects\n",
    "\n",
    "errors_measure = [thermal_relaxation_error(t1, t2, time_measure)\n",
    "                    for t1, t2 in zip(T1s, T2s)]\n",
    "print(errors_measure[0])\n",
    "for i in range(len(errors_measure)):\n",
    "    errors_measure[i] = bit_flip.compose(errors_measure[i])\n",
    "errors_x  = [thermal_relaxation_error(t1, t2, time_x)\n",
    "             for t1, t2 in zip(T1s, T2s)]\n",
    "\n",
    "for i in range(len(errors_x)):\n",
    "    errors_x[i] = error_1.compose(errors_x[i])\n",
    "print(errors_x[0])\n",
    "#print((error_2.compose(thermal_relaxation_error(T1s[0], T2s[0], time_cx))).expand(error_2.compose(\n",
    "                 #thermal_relaxation_error(T1s[2], T2s[2], time_cx))))\n",
    "\n",
    "errors_cx = [[thermal_relaxation_error(t1a, t2a, time_cx).expand(\n",
    "                 thermal_relaxation_error(t1b, t2b, time_cx))\n",
    "                  for t1a, t2a in zip(T1s, T2s)]\n",
    "                   for t1b, t2b in zip(T1s, T2s)]\n",
    "\n",
    "\n",
    "\n",
    "noise_thermal = NoiseModel()\n",
    "\n",
    "for j in range(len(T1s)):\n",
    "        noise_thermal.add_quantum_error(errors_measure[j], \"reset\", [j])\n",
    "        noise_thermal.add_quantum_error(errors_measure[j], \"measure\", [j])\n",
    "        #noise_thermal.add_quantum_error(errors_u1[j], \"u1\", [j])\n",
    "        noise_thermal.add_quantum_error(errors_x[j], \"p\", [j])\n",
    "        noise_thermal.add_quantum_error(errors_x[j], \"h\", [j])\n",
    "        noise_thermal.add_quantum_error(errors_x[j], \"x\", [j])\n",
    "        noise_thermal.add_quantum_error(errors_x[j], \"z\", [j])\n",
    "        #noise_thermal.add_quantum_error(errors_u2[j], \"u2\", [j])\n",
    "        #noise_thermal.add_quantum_error(errors_u3[j], \"u3\", [j])\n",
    "        noise_thermal.add_quantum_error(errors_x[j], \"u\", [j])\n",
    "        \n",
    "        for k in range(len(T1s)):\n",
    "            noise_thermal.add_quantum_error(errors_cx[j][k], \"cx\", [j, k])\n",
    "\n",
    "\n",
    "        \n",
    "print(noise_thermal)"
   ]
  },
  {
   "cell_type": "code",
   "execution_count": 29,
   "metadata": {},
   "outputs": [
    {
     "name": "stdout",
     "output_type": "stream",
     "text": [
      "{'1': 61, '0': 963}\n"
     ]
    },
    {
     "data": {
      "image/png": "[encoded data removed]",
      "text/plain": [
       "<Figure size 504x360 with 1 Axes>"
      ]
     },
     "execution_count": 29,
     "metadata": {},
     "output_type": "execute_result"
    }
   ],
   "source": [
    "simulate = execute(qc, backend = Aer.get_backend(\"qasm_simulator\"), basis_gates=noise_thermal.basis_gates, \n",
    "                               noise_model=noise_thermal, shots=1024).result()\n",
    "counts4 = simulate.get_counts()\n",
    "print(counts4)\n",
    "plot_histogram(counts4)"
   ]
  },
  {
   "cell_type": "markdown",
   "metadata": {},
   "source": [
    "## NOW WE PLOT THE DIFFERENT HISTOGRAMS AND COMPARE THE PROBABILITY DISTRIBUTIONS USING HELLINGER DISTANCE"
   ]
  },
  {
   "cell_type": "code",
   "execution_count": 30,
   "metadata": {},
   "outputs": [],
   "source": [
    "## We define Hellinger distance\n",
    "def hellingerDistance(p, q):\n",
    "    '''Calculate the Hellinger distance between two probability distributions, P and Q. P and Q are given as simple \n",
    "    arrays containing the probabilities p[i] and q[i]. IMPORTANT: the probability arrays have to be ordered in the \n",
    "    same way.'''\n",
    "    sum = 0\n",
    "    for i in range (0, len(p)):\n",
    "        sum = sum + (np.sqrt(p[i]) - np.sqrt(q[i]))**2\n",
    "        \n",
    "    h = (1/np.sqrt(2))*np.sqrt(sum)\n",
    "        \n",
    "    return h\n",
    "## We define a function to get the probabilities\n",
    "def getProbabilities(dct,N):\n",
    "    p = []\n",
    "    p.append(dct[\"0 0 0\"]/N)\n",
    "    \n",
    "    p.append(dct[\"0 0 1\"]/N)\n",
    "    \n",
    "    p.append(dct[\"0 1 0\"]/N)\n",
    "    \n",
    "    p.append(dct[\"0 1 1\"]/N)\n",
    "    p.append(dct[\"1 0 0\"]/N)\n",
    "    p.append(dct[\"1 0 1\"]/N)\n",
    "    p.append(dct[\"1 1 0\"]/N)\n",
    "    p.append(dct[\"1 1 1\"]/N)\n",
    "    \n",
    "    \n",
    "    return p\n",
    "def getProbabilities2(dct,N):\n",
    "    p = []\n",
    "    p.append(dct[\"0\"]/N)\n",
    "    p.append(dct[\"1\"]/N)\n",
    "    return p\n",
    "\n"
   ]
  },
  {
   "cell_type": "code",
   "execution_count": 31,
   "metadata": {},
   "outputs": [
    {
     "name": "stdout",
     "output_type": "stream",
     "text": [
      "0    216\n",
      "1    183\n",
      "2    176\n",
      "3    161\n",
      "4     74\n",
      "5     84\n",
      "6     55\n",
      "7     75\n",
      "Name: Frequency, dtype: int64\n",
      "{'0': 736, '1': 288}\n",
      "[0.21574784469906355, 0.2101871799306072, 0.23192289763920404, 0.22002322628597107]\n"
     ]
    }
   ],
   "source": [
    "pe1 = getProbabilities2(counts1,1024)\n",
    "pe2 = getProbabilities2(counts2,1024)\n",
    "pe3 = getProbabilities2(counts3,1024)\n",
    "pe4 = getProbabilities2(counts4,1024)\n",
    "PS = [pe1,pe2,pe3,pe4]\n",
    "#path = \"/Users/rgomezlu/Google_Drive/Màster/TFM/Programació/jobs/yorktown/Tele/bar-chart.csv\"\n",
    "#data = pd.read_csv(\"/Users/rgomezlu/Google_Drive/Màster/TFM/Programació/jobs/yorktown/Tele/bar-chart.csv\")\n",
    "\n",
    "path = \"/Users/rgomezlu/Google_Drive/Màster/TFM/Programació/jobs/belem/Tele/bar-chart.csv\"\n",
    "data = pd.read_csv(\"/Users/rgomezlu/Google_Drive/Màster/TFM/Programació/jobs/belem/Tele/bar-chart.csv\")\n",
    "\n",
    "keys = ['0 0 0', '0 0 1', '0 1 0', '0 1 1', '1 0 0', '1 0 1', '1 1 0', '1 1 1']\n",
    "values = data[\"Frequency\"]\n",
    "print(values)\n",
    "v0 =sum(data[\"Frequency\"][:4])\n",
    "v1 =sum(data[\"Frequency\"][4:])\n",
    "valuesT =[v0,v1]\n",
    "keys2 = ['0','1']\n",
    "dct = dict(zip(keys,values))\n",
    "dct2 = dict(zip(keys2,valuesT))\n",
    "print(dct2)\n",
    "\n",
    "\n",
    "pee = getProbabilities(dct,1024)\n",
    "pee1=[sum(pee[:4]),sum(pee[4:])]\n",
    "h=[]\n",
    "for x in PS:\n",
    "    h.append(hellingerDistance(pee1,x))\n",
    "print(h)"
   ]
  },
  {
   "cell_type": "code",
   "execution_count": 32,
   "metadata": {},
   "outputs": [],
   "source": [
    "#path = \"/Users/rgomezlu/Google_Drive/Màster/TFM/Programació/jobs/yorktown/Tele/bar-chart-2.csv\"\n",
    "#data = pd.read_csv(\"/Users/rgomezlu/Google_Drive/Màster/TFM/Programació/jobs/yorktown/Tele/bar-chart-2.csv\")\n",
    "\n",
    "#path = \"/Users/rgomezlu/Google_Drive/Màster/TFM/Programació/jobs/belem/Tele/bar-chart-2.csv\"\n",
    "#data = pd.read_csv(\"/Users/rgomezlu/Google_Drive/Màster/TFM/Programació/jobs/belem/bar-chart-2.csv\")\n",
    "\n",
    "keys = ['0 0 0', '0 0 1', '0 1 0', '0 1 1', '1 0 0', '1 0 1', '1 1 0', '1 1 1']\n",
    "values = data[\"Frequency\"]\n",
    "\n",
    "dct = dict(zip(keys,values))\n",
    "\n",
    "pee = getProbabilities(dct,1024)\n",
    "\n",
    "pee1=[sum(pee[:4]),sum(pee[4:])]\n"
   ]
  },
  {
   "cell_type": "code",
   "execution_count": 33,
   "metadata": {},
   "outputs": [
    {
     "data": {
      "image/png": "[encoded data removed]",
      "text/plain": [
       "<Figure size 504x360 with 1 Axes>"
      ]
     },
     "execution_count": 33,
     "metadata": {},
     "output_type": "execute_result"
    }
   ],
   "source": [
    "# Plot results with legend\n",
    "legend = ['Real Device', 'One Property', 'Single Properties','Averaged Properties', '+Thermal Relaxation']\n",
    "plot_histogram([dct2, counts1, counts2 , counts3 , counts4], legend=legend)#.savefig(\"/Users/rgomezlu/Google_Drive/Màster/TFM/Programació/Plots/Prova.png\")\n",
    "\n"
   ]
  },
  {
   "cell_type": "code",
   "execution_count": 34,
   "metadata": {},
   "outputs": [
    {
     "ename": "KeyError",
     "evalue": "'0 0 0'",
     "output_type": "error",
     "traceback": [
      "\u001b[0;31m---------------------------------------------------------------------------\u001b[0m",
      "\u001b[0;31mKeyError\u001b[0m                                  Traceback (most recent call last)",
      "\u001b[0;32m<ipython-input-34-69a1910bc7eb>\u001b[0m in \u001b[0;36m<module>\u001b[0;34m\u001b[0m\n\u001b[0;32m----> 1\u001b[0;31m \u001b[0mpe1\u001b[0m \u001b[0;34m=\u001b[0m \u001b[0mgetProbabilities\u001b[0m\u001b[0;34m(\u001b[0m\u001b[0mcounts1\u001b[0m\u001b[0;34m,\u001b[0m\u001b[0;36m1024\u001b[0m\u001b[0;34m)\u001b[0m\u001b[0;34m\u001b[0m\u001b[0;34m\u001b[0m\u001b[0m\n\u001b[0m\u001b[1;32m      2\u001b[0m \u001b[0mpe2\u001b[0m \u001b[0;34m=\u001b[0m \u001b[0mgetProbabilities\u001b[0m\u001b[0;34m(\u001b[0m\u001b[0mcounts2\u001b[0m\u001b[0;34m,\u001b[0m\u001b[0;36m1024\u001b[0m\u001b[0;34m)\u001b[0m\u001b[0;34m\u001b[0m\u001b[0;34m\u001b[0m\u001b[0m\n\u001b[1;32m      3\u001b[0m \u001b[0mpe3\u001b[0m \u001b[0;34m=\u001b[0m \u001b[0mgetProbabilities\u001b[0m\u001b[0;34m(\u001b[0m\u001b[0mcounts3\u001b[0m\u001b[0;34m,\u001b[0m\u001b[0;36m1024\u001b[0m\u001b[0;34m)\u001b[0m\u001b[0;34m\u001b[0m\u001b[0;34m\u001b[0m\u001b[0m\n\u001b[1;32m      4\u001b[0m \u001b[0mpe4\u001b[0m \u001b[0;34m=\u001b[0m \u001b[0mgetProbabilities\u001b[0m\u001b[0;34m(\u001b[0m\u001b[0mcounts4\u001b[0m\u001b[0;34m,\u001b[0m\u001b[0;36m1024\u001b[0m\u001b[0;34m)\u001b[0m\u001b[0;34m\u001b[0m\u001b[0;34m\u001b[0m\u001b[0m\n\u001b[1;32m      5\u001b[0m \u001b[0mPS\u001b[0m \u001b[0;34m=\u001b[0m \u001b[0;34m[\u001b[0m\u001b[0mpe1\u001b[0m\u001b[0;34m,\u001b[0m\u001b[0mpe2\u001b[0m\u001b[0;34m,\u001b[0m\u001b[0mpe3\u001b[0m\u001b[0;34m,\u001b[0m\u001b[0mpe4\u001b[0m\u001b[0;34m]\u001b[0m\u001b[0;34m\u001b[0m\u001b[0;34m\u001b[0m\u001b[0m\n",
      "\u001b[0;32m<ipython-input-30-9acc2dfb3712>\u001b[0m in \u001b[0;36mgetProbabilities\u001b[0;34m(dct, N)\u001b[0m\n\u001b[1;32m     14\u001b[0m \u001b[0;32mdef\u001b[0m \u001b[0mgetProbabilities\u001b[0m\u001b[0;34m(\u001b[0m\u001b[0mdct\u001b[0m\u001b[0;34m,\u001b[0m\u001b[0mN\u001b[0m\u001b[0;34m)\u001b[0m\u001b[0;34m:\u001b[0m\u001b[0;34m\u001b[0m\u001b[0;34m\u001b[0m\u001b[0m\n\u001b[1;32m     15\u001b[0m     \u001b[0mp\u001b[0m \u001b[0;34m=\u001b[0m \u001b[0;34m[\u001b[0m\u001b[0;34m]\u001b[0m\u001b[0;34m\u001b[0m\u001b[0;34m\u001b[0m\u001b[0m\n\u001b[0;32m---> 16\u001b[0;31m     \u001b[0mp\u001b[0m\u001b[0;34m.\u001b[0m\u001b[0mappend\u001b[0m\u001b[0;34m(\u001b[0m\u001b[0mdct\u001b[0m\u001b[0;34m[\u001b[0m\u001b[0;34m\"0 0 0\"\u001b[0m\u001b[0;34m]\u001b[0m\u001b[0;34m/\u001b[0m\u001b[0mN\u001b[0m\u001b[0;34m)\u001b[0m\u001b[0;34m\u001b[0m\u001b[0;34m\u001b[0m\u001b[0m\n\u001b[0m\u001b[1;32m     17\u001b[0m \u001b[0;34m\u001b[0m\u001b[0m\n\u001b[1;32m     18\u001b[0m     \u001b[0mp\u001b[0m\u001b[0;34m.\u001b[0m\u001b[0mappend\u001b[0m\u001b[0;34m(\u001b[0m\u001b[0mdct\u001b[0m\u001b[0;34m[\u001b[0m\u001b[0;34m\"0 0 1\"\u001b[0m\u001b[0;34m]\u001b[0m\u001b[0;34m/\u001b[0m\u001b[0mN\u001b[0m\u001b[0;34m)\u001b[0m\u001b[0;34m\u001b[0m\u001b[0;34m\u001b[0m\u001b[0m\n",
      "\u001b[0;31mKeyError\u001b[0m: '0 0 0'"
     ]
    }
   ],
   "source": [
    "pe1 = getProbabilities(counts1,1024)\n",
    "pe2 = getProbabilities(counts2,1024)\n",
    "pe3 = getProbabilities(counts3,1024)\n",
    "pe4 = getProbabilities(counts4,1024)\n",
    "PS = [pe1,pe2,pe3,pe4]\n",
    "path = \"/Users/rgomezlu/Google_Drive/Màster/TFM/Programació/jobs/yorktown/Tele/bar-chart.csv\"\n",
    "data = pd.read_csv(\"/Users/rgomezlu/Google_Drive/Màster/TFM/Programació/jobs/yorktown/Tele/bar-chart.csv\")\n",
    "#path = \"/Users/rgomezlu/Google_Drive/Màster/TFM/Programació/jobs/belem/bar-chart.csv\"\n",
    "#data = pd.read_csv(\"/Users/rgomezlu/Google_Drive/Màster/TFM/Programació/jobs/belem/bar-chart.csv\")\n",
    "\n",
    "keys = ['0 0 0', '0 0 1', '0 1 0', '0 1 1', '1 0 0', '1 0 1', '1 1 0', '1 1 1']\n",
    "values = data[\"Frequency\"]\n",
    "\n",
    "dct = dict(zip(keys,values))\n",
    "\n",
    "pee = getProbabilities(dct,1024)\n",
    "print(hellingerDistance(pee,pe4))\n",
    "h=[]\n",
    "for x in PS:\n",
    "    h.append(hellingerDistance(pee,x))\n",
    "print(h)"
   ]
  },
  {
   "cell_type": "code",
   "execution_count": null,
   "metadata": {},
   "outputs": [],
   "source": [
    "pe1 = getProbabilities2(counts1,1024)\n",
    "pe2 = getProbabilities2(counts2,1024)\n",
    "pe3 = getProbabilities2(counts3,1024)\n",
    "pe4 = getProbabilities2(counts4,1024)\n",
    "PS = [pe1,pe2,pe3,pe4]\n",
    "path = \"/Users/rgomezlu/Google_Drive/Màster/TFM/Programació/jobs/yorktown/Tele/bar-chart.csv\"\n",
    "data = pd.read_csv(\"/Users/rgomezlu/Google_Drive/Màster/TFM/Programació/jobs/yorktown/Tele/bar-chart.csv\")\n",
    "\n",
    "#path = \"/Users/rgomezlu/Google_Drive/Màster/TFM/Programació/jobs/belem/Tele/bar-chart-2.csv\"\n",
    "#data = pd.read_csv(\"/Users/rgomezlu/Google_Drive/Màster/TFM/Programació/jobs/belem/bar-chart-2.csv\")\n",
    "\n",
    "keys = ['0 0 0', '0 0 1', '0 1 0', '0 1 1', '1 0 0', '1 0 1', '1 1 0', '1 1 1']\n",
    "values = data[\"Frequency\"]\n",
    "v0 =sum(data[\"Frequency\"][:4])\n",
    "v1 =sum(data[\"Frequency\"][4:])\n",
    "valuesT =[v0,v1]\n",
    "keys2 = ['0','1']\n",
    "dct = dict(zip(keys,values))\n",
    "dct2 = dict(zip(keys2,valuesT))\n",
    "print(dct2)\n",
    "\n",
    "\n",
    "pee = getProbabilities(dct,1024)\n",
    "pee1=[sum(pee[:4]),sum(pee[4:])]\n",
    "print(pee1)\n",
    "print(hellingerDistance(pee1,pe4))\n",
    "h=[]\n",
    "for x in PS:\n",
    "    h.append(hellingerDistance(pee1,x))\n",
    "print(h)"
   ]
  },
  {
   "cell_type": "code",
   "execution_count": null,
   "metadata": {},
   "outputs": [],
   "source": [
    "# Plot results with legend\n",
    "legend = ['Real Device', 'One Property', 'Different Properties', 'Combining Errors', 'Averaged Errors']\n",
    "plot_histogram([dct2, counts1, counts2 , counts3 , counts4], legend=legend)"
   ]
  },
  {
   "cell_type": "code",
   "execution_count": null,
   "metadata": {},
   "outputs": [],
   "source": [
    "pe1 = getProbabilities(counts1,1024)\n",
    "pe2 = getProbabilities(counts2,1024)\n",
    "pe3 = getProbabilities(counts3,1024)\n",
    "pe4 = getProbabilities(counts4,1024)\n",
    "PS = [pe1,pe2,pe3,pe4]\n",
    "#path = \"/Users/rgomezlu/Google_Drive/Màster/TFM/Programació/jobs/yorktown/bar-chart.csv\"\n",
    "#data = pd.read_csv(\"/Users/rgomezlu/Google_Drive/Màster/TFM/Programació/jobs/yorktown/bar-chart.csv\")\n",
    "path = \"/Users/rgomezlu/Google_Drive/Màster/TFM/Programació/jobs/belem/bar-chart-3.csv\"\n",
    "data = pd.read_csv(\"/Users/rgomezlu/Google_Drive/Màster/TFM/Programació/jobs/belem/bar-chart-3.csv\")\n",
    "\n",
    "keys = ['0 0 0', '0 0 1', '0 1 0', '0 1 1', '1 0 0', '1 0 1', '1 1 0', '1 1 1']\n",
    "values = data[\"Frequency\"]\n",
    "\n",
    "dct = dict(zip(keys,values))\n",
    "\n",
    "pee = getProbabilities(dct,1024)\n",
    "print(hellingerDistance(pee,pe4))\n",
    "h=[]\n",
    "for x in PS:\n",
    "    h.append(hellingerDistance(pee,x))\n",
    "print(h)"
   ]
  },
  {
   "cell_type": "code",
   "execution_count": null,
   "metadata": {},
   "outputs": [],
   "source": [
    "# Plot results with legend\n",
    "legend = ['Real Device', 'One Property', 'Different Properties', 'Combining Errors', 'Averaged Errors']\n",
    "plot_histogram([dct, counts1, counts2 , counts3 , counts4], legend=legend)"
   ]
  },
  {
   "cell_type": "markdown",
   "metadata": {},
   "source": [
    "## 4. Understanding Quantum Teleportation <a id=\"understanding-qt\">"
   ]
  },
  {
   "cell_type": "markdown",
   "metadata": {},
   "source": [
    "As you have worked with the Quantum Teleportation's implementation, it is time to understand the mathematics behind the protocol.\n",
    "\n",
    "#### Step 1\n",
    "\n",
    "Quantum Teleportation begins with the fact that Alice needs to transmit $|\\psi\\rangle = \\alpha|0\\rangle + \\beta|1\\rangle$ (a random qubit) to Bob. She doesn't know the state of the qubit. For this, Alice and Bob take the help of a third party (Telamon). Telamon prepares a pair of entangled qubits for Alice and Bob. The entangled qubits could be written in Dirac Notation as:\n",
    "\n",
    "$$ |e \\rangle = \\frac{1}{\\sqrt{2}} (|00\\rangle + |11\\rangle) $$\n",
    "\n",
    "Alice and Bob each possess one qubit of the entangled pair (denoted as A and B respectively),\n",
    "\n",
    "$$|e\\rangle = \\frac{1}{\\sqrt{2}} (|0\\rangle_A |0\\rangle_B + |1\\rangle_A |1\\rangle_B) $$\n",
    "\n",
    "This creates a three qubit quantum system where Alice has the first two qubits and Bob the last one.\n",
    "\n",
    "$$ \\begin{align*}\n",
    "|\\psi\\rangle \\otimes |e\\rangle &= \\frac{1}{\\sqrt{2}} (\\alpha |0\\rangle \\otimes (|00\\rangle + |11\\rangle) + \\beta |1\\rangle \\otimes (|00\\rangle + |11\\rangle))\\\\\n",
    "&= \\frac{1}{\\sqrt{2}} (\\alpha|000\\rangle + \\alpha|011\\rangle + \\beta|100\\rangle + \\beta|111\\rangle) \n",
    "\\end{align*}$$"
   ]
  },
  {
   "cell_type": "markdown",
   "metadata": {},
   "source": [
    "#### Step 2\n",
    "\n",
    "Now according to the protocol Alice applies CNOT gate on her two qubits followed by Hadamard gate on the first qubit. This results in the state:\n",
    "\n",
    "$$ \n",
    "\\begin{align*} (H \\otimes I \\otimes I) (CNOT \\otimes I) (|\\psi\\rangle \\otimes |e\\rangle)\n",
    "&=(H \\otimes I \\otimes I) (CNOT \\otimes I) \\frac{1}{\\sqrt{2}} (\\alpha|000\\rangle + \\alpha|011\\rangle + \\beta|100\\rangle + \\beta|111\\rangle) \\\\\n",
    "&= (H \\otimes I \\otimes I) \\frac{1}{\\sqrt{2}} (\\alpha|000\\rangle + \\alpha|011\\rangle + \\beta|110\\rangle + \\beta|101\\rangle) \\\\\n",
    "&= \\frac{1}{2}  (\\alpha(|000\\rangle + |011\\rangle + |100\\rangle + |111\\rangle) + \\beta(|010\\rangle + |001\\rangle - |110\\rangle - |101\\rangle)) \\\\\n",
    "\\end{align*}\n",
    "$$\n",
    "\n",
    "Which can then be separated and written as: \n",
    "\n",
    "$$\n",
    "\\begin{align*}\n",
    "= \\frac{1}{2}(\n",
    " & \\phantom{+} |00\\rangle (\\alpha|0\\rangle + \\beta|1\\rangle) \\hphantom{\\quad )} \\\\\n",
    " & + |01\\rangle (\\alpha|1\\rangle + \\beta|0\\rangle) \\hphantom{\\quad )}\\\\[4pt]\n",
    " & + |10\\rangle (\\alpha|0\\rangle - \\beta|1\\rangle) \\hphantom{\\quad )}\\\\[4pt]\n",
    " & + |11\\rangle (\\alpha|1\\rangle - \\beta|0\\rangle) \\quad )\\\\\n",
    "\\end{align*}\n",
    "$$"
   ]
  },
  {
   "cell_type": "markdown",
   "metadata": {},
   "source": [
    "#### Step 3\n",
    "\n",
    "Alice measures the first two qubit (which she owns) and sends them as two classical bits to Bob. The result she obtains is always one of the four standard basis states $|00\\rangle, |01\\rangle, |10\\rangle,$ and $|11\\rangle$ with equal probability.  \n",
    "\n",
    "On the basis of her measurement, Bob's state will be projected to, \n",
    "$$ |00\\rangle \\rightarrow (\\alpha|0\\rangle + \\beta|1\\rangle)\\\\\n",
    "|01\\rangle \\rightarrow (\\alpha|1\\rangle + \\beta|0\\rangle)\\\\\n",
    "|10\\rangle \\rightarrow (\\alpha|0\\rangle - \\beta|1\\rangle)\\\\\n",
    "|11\\rangle \\rightarrow (\\alpha|1\\rangle - \\beta|0\\rangle)$$."
   ]
  },
  {
   "cell_type": "markdown",
   "metadata": {},
   "source": [
    "#### Step 4\n",
    "\n",
    "Bob, on receiving the bits from Alice, knows he can obtain the original state $|\\psi\\rangle$ by applying appropriate transformations on his qubit that was once part of the entangled pair.\n",
    "\n",
    "The transformations he needs to apply are:\n",
    "\n",
    "$$\n",
    "\\begin{array}{c c c}\n",
    "\\mbox{Bob's State}                 & \\mbox{Bits Received} & \\mbox{Gate Applied} \\\\\n",
    "(\\alpha|0\\rangle + \\beta|1\\rangle) & 00                   & I                   \\\\\n",
    "(\\alpha|1\\rangle + \\beta|0\\rangle) & 01                   & X                   \\\\\n",
    "(\\alpha|0\\rangle - \\beta|1\\rangle) & 10                   & Z                   \\\\\n",
    "(\\alpha|1\\rangle - \\beta|0\\rangle) & 11                   & ZX\n",
    "\\end{array}\n",
    "$$\n",
    "\n",
    "After this step Bob will have successfully reconstructed Alice's state."
   ]
  },
  {
   "cell_type": "markdown",
   "metadata": {},
   "source": [
    "## 5. Teleportation on a Real Quantum Computer <a id='real_qc'></a>"
   ]
  },
  {
   "cell_type": "markdown",
   "metadata": {},
   "source": [
    "### 5.1 IBM hardware and Deferred Measurement <a id='deferred-measurement'></a>\n",
    "\n",
    "The IBM quantum computers currently do not support instructions after measurements, meaning we cannot run the quantum teleportation in its current form on real hardware. Fortunately, this does not limit our ability to perform any computations due to the _deferred measurement principle_ discussed in chapter 4.4 of [1]. The principle states that any measurement can be postponed until the end of the circuit, i.e. we can move all the measurements to the end, and we should see the same results.\n",
    "\n",
    "![deferred_measurement_gates](images/defer_measurement.svg)\n",
    "\n",
    "Any benefits of measuring early are hardware related: If we can measure early, we may be able to reuse qubits, or reduce the amount of time our qubits are in their fragile superposition. In this example, the early measurement in quantum teleportation would have allowed us to transmit a qubit state without a direct quantum communication channel.\n",
    "\n",
    "While moving the gates allows us to demonstrate the \"teleportation\" circuit on real hardware, it should be noted that the benefit of the teleportation process (transferring quantum states via classical channels) is lost.\n",
    "\n",
    "Let us re-write the `bob_gates` function to `new_bob_gates`:"
   ]
  },
  {
   "cell_type": "code",
   "execution_count": null,
   "metadata": {
    "tags": [
     "thebelab-init"
    ]
   },
   "outputs": [],
   "source": [
    "def new_bob_gates(qc, a, b, c):\n",
    "    qc.cx(b, c)\n",
    "    qc.cz(a, c)"
   ]
  },
  {
   "cell_type": "markdown",
   "metadata": {},
   "source": [
    "And create our new circuit:"
   ]
  },
  {
   "cell_type": "code",
   "execution_count": null,
   "metadata": {},
   "outputs": [],
   "source": [
    "qc = QuantumCircuit(3,3)\n",
    "\n",
    "# First, let's initialize Alice's q0\n",
    "qc.append(init_gate, [0])\n",
    "qc.barrier()\n",
    "\n",
    "# Now begins the teleportation protocol\n",
    "create_bell_pair(qc, 1, 2)\n",
    "qc.barrier()\n",
    "# Send q1 to Alice and q2 to Bob\n",
    "alice_gates(qc, 0, 1)\n",
    "qc.barrier()\n",
    "# Alice sends classical bits to Bob\n",
    "new_bob_gates(qc, 0, 1, 2)\n",
    "\n",
    "# We undo the initialization process\n",
    "qc.append(inverse_init_gate, [2])\n",
    "\n",
    "# See the results, we only care about the state of qubit 2\n",
    "qc.measure(2,2)\n",
    "qc.measure(0,0)\n",
    "qc.measure(1,1)\n",
    "# View the results:\n",
    "qc.draw()"
   ]
  },
  {
   "cell_type": "markdown",
   "metadata": {},
   "source": [
    "### 5.2 Executing <a id='executing'></a> "
   ]
  },
  {
   "cell_type": "code",
   "execution_count": null,
   "metadata": {
    "tags": [
     "uses-hardware"
    ]
   },
   "outputs": [],
   "source": []
  },
  {
   "cell_type": "code",
   "execution_count": null,
   "metadata": {
    "tags": [
     "uses-hardware"
    ]
   },
   "outputs": [],
   "source": [
    "# get the least-busy backend at IBM and run the quantum circuit there\n",
    "from qiskit.providers.ibmq import least_busy\n",
    "from qiskit.tools.monitor import job_monitor\n",
    "backend = least_busy(provider.backends(filters=lambda b: b.configuration().n_qubits >= 3 and\n",
    "                                   not b.configuration().simulator and b.status().operational==True))\n",
    "backend = provider.backend.ibmq_16_melbourne\n",
    "#experiment = execute(qc, backend, shots=1024).result()\n",
    "#t_qc = transpile(qc, backend, optimization_level=3)\n",
    "#qobj = assemble(t_qc)\n",
    "#job = backend.run(qobj)\n",
    "#job_monitor(job)  # displays job status under cell"
   ]
  },
  {
   "cell_type": "code",
   "execution_count": null,
   "metadata": {
    "tags": [
     "uses-hardware"
    ]
   },
   "outputs": [],
   "source": [
    "# Get the results and display them\n",
    "exp_result = job.result()\n",
    "exp_counts = experiment.get_counts(qc)\n",
    "print(exp_counts)\n",
    "plot_histogram(exp_counts)"
   ]
  },
  {
   "cell_type": "markdown",
   "metadata": {},
   "source": [
    "As we see here, there are a few results in which we measured $|1\\rangle$. These arise due to errors in the gates and the qubits. In contrast, our simulator in the earlier part of the notebook had zero errors in its gates, and allowed error-free teleportation."
   ]
  },
  {
   "cell_type": "code",
   "execution_count": null,
   "metadata": {
    "tags": [
     "uses-hardware"
    ]
   },
   "outputs": [],
   "source": [
    "print(f\"The experimental error rate : {exp_counts['1']/sum(exp_counts.values()):.3f}%\")"
   ]
  },
  {
   "cell_type": "markdown",
   "metadata": {},
   "source": [
    "## 6. References <a id='references'></a>\n",
    "[1] M. Nielsen and I. Chuang, Quantum Computation and Quantum Information, Cambridge Series on Information and the Natural Sciences (Cambridge University Press, Cambridge, 2000).\n",
    "\n",
    "[2] Eleanor Rieffel and Wolfgang Polak, Quantum Computing: a Gentle Introduction (The MIT Press Cambridge England, Massachusetts, 2011)."
   ]
  },
  {
   "cell_type": "code",
   "execution_count": null,
   "metadata": {},
   "outputs": [],
   "source": [
    "import qiskit\n",
    "qiskit.__qiskit_version__"
   ]
  }
 ],
 "metadata": {
  "kernelspec": {
   "display_name": "Python 3",
   "language": "python",
   "name": "python3"
  },
  "language_info": {
   "codemirror_mode": {
    "name": "ipython",
    "version": 3
   },
   "file_extension": ".py",
   "mimetype": "text/x-python",
   "name": "python",
   "nbconvert_exporter": "python",
   "pygments_lexer": "ipython3",
   "version": "3.9.2"
  }
 },
 "nbformat": 4,
 "nbformat_minor": 4
}
