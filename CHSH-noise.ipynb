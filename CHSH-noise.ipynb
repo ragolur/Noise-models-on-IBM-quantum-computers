{
 "cells": [
  {
   "cell_type": "markdown",
   "metadata": {
    "tags": [
     "remove_cell"
    ]
   },
   "source": [
    "# Local Reality and the CHSH inequality"
   ]
  },
  {
   "cell_type": "markdown",
   "metadata": {},
   "source": [
    "We have seen in a previous module how quantum entanglement results in strong correlations in a multi-partite system. In fact these correlations appear to be stronger than anything that could be explained using classical physics. \n",
    "\n",
    "The historical development of quantum mechanics is filled with agitated discussions about the true nature of reality and the extent to which quantum mechanics can explain it. Given the spectacular empirical success of quantum mechanics, it was going to be clear that people would not simply give it up just because some of its aspects were hard to reconcile with intuition.\n",
    "\n",
    "At the root of these different points of views was the question of the nature of measurement. We know there is an element of randomness in quantum measurements, but is that really so? Is there a sneaky way by which the Universe has already decided beforehand which value a given measurement is going to yield at a future time? This hypothesis was the basis for different _hidden variable_ theories. But these theories did not only need to explain randomness at the single particle level. They also needed to explain what happens when different observers measure different parts of a multi-partite entangled system! This went beyond just hidden variable theories. Now a local hidden variable theory was needed in order to reconcile the observations of quantum mechanics with a Universe in which local reality was valid.\n",
    "\n",
    "What is local reality? In an Universe where locality holds, it should be possible to separate two systems so far in space that they could not interact with each other. The concept of reality is related to whether a measurable quantity holds a particular value _in the absence of any future measurement_. \n",
    "\n",
    "In 1963, John Stewart Bell published what could be argued as one of the most profound discoveries in the history of science. Bell stated that any theory invoking local hidden variables could be experimentally ruled out. In this section we are going to see how, and we will run a real experiment that demonstrates so! (with some remaining loopholes to close...)"
   ]
  },
  {
   "cell_type": "markdown",
   "metadata": {},
   "source": [
    "### The CHSH inequality\n",
    "\n",
    "Imagine Alice and Bob are given each one part of a bipartite entangled system. Each of them then performs two measurements on their part in two different bases. Let's call Alice's bases _A_ and _a_ and Bob's _B_ and _b_. What is the expectation value of the quantity $\\langle CHSH \\rangle = \\langle AB \\rangle - \\langle Ab \\rangle + \\langle aB \\rangle + \\langle ab \\rangle$ ? \n",
    "\n",
    "Now, Alice and Bob have one qubit each, so any measurement they perform on their system (qubit) can only yield one of two possible outcomes: +1 or -1. Note that whereas we typically refer to the two qubit states as $|0\\rangle$ and $|1\\rangle$, these are *eigenstates*, and a projective measurement will yield their *eigenvalues*, +1 and -1, respectively. \n",
    "\n",
    "Therefore, if any measurement of _A_, _a_, _B_, and _b_ can only yield $\\pm 1$, the quantities $(B-b)$ and $(B+b)$ can only be 0 or $\\pm2$. And thus, the quantity $A(B-b) + a(B+b)$ can only be either +2 or -2, which means that there should be a bound for the expectation value of the quantity we have called $|\\langle CHSH \\rangle| =|\\langle AB \\rangle - \\langle Ab \\rangle + \\langle aB \\rangle + \\langle ab \\rangle| \\leq 2$.\n",
    "\n",
    "Now, the above discussion is oversimplified, because we could consider that the outcome on any set of measurements from Alice and Bob could depend on a set of local hidden variables, but it can be shown with some math that, even when that is the case, the expectation value of the quantity $CHSH$ should be bounded by 2 if local realism held.\n",
    "\n",
    "But what happens when we do these experiments with an entangled system? Let's try it!"
   ]
  },
  {
   "cell_type": "code",
   "execution_count": 1,
   "metadata": {},
   "outputs": [],
   "source": [
    "#import qiskit tools\n",
    "import qiskit\n",
    "from qiskit import QuantumCircuit, ClassicalRegister, QuantumRegister, execute, transpile, Aer, IBMQ\n",
    "from qiskit.tools.visualization import circuit_drawer\n",
    "from qiskit.tools.monitor import job_monitor, backend_monitor, backend_overview\n",
    "from qiskit.providers.aer import noise\n",
    "\n",
    "#import python stuff\n",
    "import matplotlib.pyplot as plt\n",
    "import numpy as np\n",
    "import time\n",
    "# Do the necessary imports\n",
    "import numpy as np\n",
    "from qiskit import QuantumCircuit, QuantumRegister, ClassicalRegister\n",
    "from qiskit import IBMQ, Aer, transpile, assemble\n",
    "from qiskit.visualization import plot_histogram, plot_bloch_multivector\n",
    "from qiskit.extensions import Initialize\n",
    "from qiskit_textbook.tools import random_state, array_to_latex\n",
    "# Do the necessary imports\n",
    "import numpy as np\n",
    "from qiskit import QuantumCircuit, QuantumRegister, ClassicalRegister\n",
    "from qiskit import IBMQ, Aer, transpile, assemble\n",
    "from qiskit.visualization import plot_histogram, plot_bloch_multivector\n",
    "from qiskit.extensions import Initialize\n",
    "from qiskit_textbook.tools import random_state, array_to_latex\n",
    "from qiskit import IBMQ, transpile\n",
    "from qiskit import QuantumCircuit\n",
    "from qiskit.providers.aer import AerSimulator\n",
    "from qiskit.tools.visualization import plot_histogram\n",
    "import qiskit as qk\n",
    "from qiskit import IBMQ, BasicAer\n",
    "from qiskit import QuantumCircuit, QuantumRegister, ClassicalRegister, execute, Aer\n",
    "from qiskit.tools.visualization import plot_histogram\n",
    "from qiskit.tools.monitor import job_monitor, backend_overview\n",
    "from qiskit import QuantumCircuit, ClassicalRegister, QuantumRegister, Aer\n",
    "from qiskit import execute\n",
    "from qiskit.tools.visualization import plot_histogram\n",
    "import numpy as np\n",
    "import matplotlib.pyplot as plt\n",
    "from qiskit.ignis.mitigation.measurement import (complete_meas_cal,CompleteMeasFitter)\n",
    "from qiskit.providers.aer.noise import NoiseModel\n",
    "from qiskit.providers.aer.noise.errors import pauli_error, depolarizing_error , phase_damping_error , amplitude_damping_error\n",
    "from IPython.display import Image\n",
    "from qiskit_textbook.tools import random_state, array_to_latex\n",
    "from qiskit.visualization import plot_histogram, plot_bloch_multivector\n",
    "\n",
    "# Do the necessary imports\n",
    "import numpy as np\n",
    "from qiskit import QuantumCircuit, QuantumRegister, ClassicalRegister\n",
    "from qiskit import IBMQ, Aer, transpile, assemble\n",
    "from qiskit.visualization import plot_histogram, plot_bloch_multivector\n",
    "from qiskit.extensions import Initialize\n",
    "from qiskit_textbook.tools import random_state, array_to_latex\n",
    "# Import libraries\n",
    "import numpy as np\n",
    "from numpy import pi as pi\n",
    "from PIL import Image\n",
    "from collections import OrderedDict\n",
    "import matplotlib.pyplot as plt\n",
    "import sys, random, ast, time\n",
    "from pathlib import Path\n",
    "import re\n",
    "import pandas as pd\n",
    "import inspect\n",
    "\n",
    "# Import Qiskit\n",
    "from qiskit import Aer, IBMQ\n",
    "from qiskit import QuantumCircuit, ClassicalRegister, QuantumRegister, execute\n",
    "from qiskit.tools.monitor import job_monitor\n",
    "from qiskit.tools.visualization import plot_histogram\n",
    "from qiskit.providers.aer import QasmSimulator\n",
    "from qiskit.providers.aer.noise.errors import thermal_relaxation_error, pauli_error\n",
    "from qiskit.providers.aer.noise import NoiseModel\n",
    "from qiskit.providers.aer import noise\n",
    "from qiskit.tools.monitor import backend_monitor\n",
    "from qiskit import QuantumCircuit, execute, Aer\n",
    "from qiskit.visualization import plot_histogram\n",
    "import qiskit.providers.aer.noise as noise"
   ]
  },
  {
   "cell_type": "code",
   "execution_count": 2,
   "metadata": {
    "tags": [
     "uses-hardware"
    ]
   },
   "outputs": [
    {
     "name": "stderr",
     "output_type": "stream",
     "text": [
      "configrc.store_credentials:WARNING:2021-07-06 12:34:24,083: Credentials already present. Set overwrite=True to overwrite.\n"
     ]
    },
    {
     "name": "stdout",
     "output_type": "stream",
     "text": [
      "Found 1 credentials.\n",
      "No credentials available for updating could be found. No action will be performed.\n",
      "Warnings:\n",
      "The stored account with url \"https://auth.quantum-computing.ibm.com/api\" is already an IBM Q Experience v2 account.\n"
     ]
    },
    {
     "data": {
      "text/plain": [
       "[<IBMQSimulator('ibmq_qasm_simulator') from IBMQ(hub='ibm-q', group='open', project='main')>,\n",
       " <IBMQBackend('ibmqx2') from IBMQ(hub='ibm-q', group='open', project='main')>,\n",
       " <IBMQBackend('ibmq_16_melbourne') from IBMQ(hub='ibm-q', group='open', project='main')>,\n",
       " <IBMQBackend('ibmq_armonk') from IBMQ(hub='ibm-q', group='open', project='main')>,\n",
       " <IBMQBackend('ibmq_athens') from IBMQ(hub='ibm-q', group='open', project='main')>,\n",
       " <IBMQBackend('ibmq_santiago') from IBMQ(hub='ibm-q', group='open', project='main')>,\n",
       " <IBMQBackend('ibmq_lima') from IBMQ(hub='ibm-q', group='open', project='main')>,\n",
       " <IBMQBackend('ibmq_belem') from IBMQ(hub='ibm-q', group='open', project='main')>,\n",
       " <IBMQBackend('ibmq_quito') from IBMQ(hub='ibm-q', group='open', project='main')>,\n",
       " <IBMQSimulator('simulator_statevector') from IBMQ(hub='ibm-q', group='open', project='main')>,\n",
       " <IBMQSimulator('simulator_mps') from IBMQ(hub='ibm-q', group='open', project='main')>,\n",
       " <IBMQSimulator('simulator_extended_stabilizer') from IBMQ(hub='ibm-q', group='open', project='main')>,\n",
       " <IBMQSimulator('simulator_stabilizer') from IBMQ(hub='ibm-q', group='open', project='main')>,\n",
       " <IBMQBackend('ibmq_manila') from IBMQ(hub='ibm-q', group='open', project='main')>]"
      ]
     },
     "execution_count": 2,
     "metadata": {},
     "output_type": "execute_result"
    }
   ],
   "source": [
    "# Set devices, if using a real device\n",
    "IBMQ.update_account()\n",
    "\n",
    "mytoken = \"e5e478e6c8add11a871103cddaae7d3e88325d6f97fd4dfcd7880c8feed140c4358f3dfc8014a346b3ea8b3f7a6771b15192ced8b096d632d22607b085556594\" ## your token ##\n",
    "IBMQ.save_account(mytoken)\n",
    "\n",
    "provider = IBMQ.load_account()\n",
    "backends = provider.backends()\n",
    "backends"
   ]
  },
  {
   "cell_type": "code",
   "execution_count": 3,
   "metadata": {},
   "outputs": [],
   "source": [
    "sv_sim = Aer.get_backend('statevector_simulator')\n",
    "qasm_sim = Aer.get_backend('qasm_simulator')"
   ]
  },
  {
   "cell_type": "markdown",
   "metadata": {},
   "source": [
    "First we are going to define a function to create our CHSH circuits. We are going to choose, without loss of generality, that Bob always uses the computational ($Z$) and the $X$ bases for his $B$ and $b$ measurements, respectively, whereas Alice chooses also orthogonal bases but whose angle we are going to vary between $0$ and $2\\pi$ with respect to Bob's bases. This set of angles is going to be the input argument to our $CHSH$ circuit building function."
   ]
  },
  {
   "cell_type": "code",
   "execution_count": 4,
   "metadata": {},
   "outputs": [],
   "source": [
    "def make_chsh_circuit(theta_vec):\n",
    "    \"\"\"Return a list of QuantumCircuits for use in a CHSH experiemnt\n",
    "    (one for each value of theta in theta_vec)\n",
    "    \n",
    "        Args:\n",
    "            theta_vec (list): list of values of angles between the bases of Alice and Bob\n",
    "        \n",
    "        Returns:\n",
    "            List[QuantumCircuit]: CHSH QuantumCircuits for each value of theta\n",
    "    \"\"\"\n",
    "    chsh_circuits = []\n",
    "    \n",
    "    for theta in theta_vec:\n",
    "        obs_vec = ['00', '01', '10', '11']\n",
    "        for el in obs_vec:\n",
    "            qc = QuantumCircuit(2,2)\n",
    "            qc.h(0)\n",
    "            qc.cx(0, 1)\n",
    "            qc.ry(theta, 0)\n",
    "            for a in range(2):\n",
    "                if el[a] == '1':\n",
    "                    qc.h(a) \n",
    "            qc.measure(range(2),range(2))\n",
    "            chsh_circuits.append(qc)\n",
    "\n",
    "    return chsh_circuits  "
   ]
  },
  {
   "cell_type": "markdown",
   "metadata": {},
   "source": [
    "Next, we are going to define a function for estimating the quantity $\\langle CHSH \\rangle$. One can define two of such quantities, actually, $\\langle CHSH1 \\rangle = \\langle AB \\rangle - \\langle Ab \\rangle + \\langle aB \\rangle + \\langle ab \\rangle$ and $\\langle CHSH2 \\rangle = \\langle AB \\rangle + \\langle Ab \\rangle - \\langle aB \\rangle + \\langle ab \\rangle$. Once chosen the corresponding measurement axes for both parties, each expectation value can be simply estimated by adding the counts from the output bitstrings with the appropriate sign (plus for the even terms $00$ and $11$ and minus for odd terms $01$ and $10$."
   ]
  },
  {
   "cell_type": "code",
   "execution_count": 5,
   "metadata": {},
   "outputs": [],
   "source": [
    "def compute_chsh_witness(counts):\n",
    "    \"\"\"Computes expectation values for the CHSH inequality, for each\n",
    "    angle (theta) between measurement axis.\n",
    "\n",
    "        Args: counts (list[dict]): dict of counts for each experiment\n",
    "              (4 per value of theta)\n",
    "\n",
    "        Returns:\n",
    "            Tuple(List, List): Tuple of lists with the two CHSH witnesses\n",
    "    \"\"\"\n",
    "    # Order is ZZ,ZX,XZ,XX\n",
    "    \n",
    "    CHSH1 = []\n",
    "    CHSH2 = []\n",
    "    # Divide the list of dictionaries in sets of 4\n",
    "    for i in range(0, len(counts), 4):  \n",
    "        theta_dict = counts[i:i + 4]\n",
    "        zz = theta_dict[0]\n",
    "        zx = theta_dict[1]\n",
    "        xz = theta_dict[2]\n",
    "        xx = theta_dict[3]\n",
    "\n",
    "        no_shots = sum(xx[y] for y in xx)\n",
    "\n",
    "        chsh1 = 0\n",
    "        chsh2 = 0\n",
    "\n",
    "        for element in zz:\n",
    "            parity = (-1)**(int(element[0])+int(element[1]))\n",
    "            chsh1+= parity*zz[element]\n",
    "            chsh2+= parity*zz[element]\n",
    "\n",
    "        for element in zx:\n",
    "            parity = (-1)**(int(element[0])+int(element[1]))\n",
    "            chsh1+= parity*zx[element]\n",
    "            chsh2-= parity*zx[element]\n",
    "\n",
    "        for element in xz:\n",
    "            parity = (-1)**(int(element[0])+int(element[1]))\n",
    "            chsh1-= parity*xz[element]\n",
    "            chsh2+= parity*xz[element]\n",
    "\n",
    "        for element in xx:\n",
    "            parity = (-1)**(int(element[0])+int(element[1]))\n",
    "            chsh1+= parity*xx[element]\n",
    "            chsh2+= parity*xx[element]\n",
    "\n",
    "        CHSH1.append(chsh1/no_shots)\n",
    "        CHSH2.append(chsh2/no_shots)\n",
    "    \n",
    "    return CHSH1"
   ]
  },
  {
   "cell_type": "markdown",
   "metadata": {},
   "source": [
    "Finally, we are going to split the interval $[0, 2\\pi)$ into 15 angles and will build the corresponding set of $CHSH$ circuits."
   ]
  },
  {
   "cell_type": "code",
   "execution_count": 6,
   "metadata": {},
   "outputs": [],
   "source": [
    "number_of_thetas = 15\n",
    "theta_vec = np.linspace(0,2*np.pi,number_of_thetas)\n",
    "my_chsh_circuits = make_chsh_circuit(theta_vec)"
   ]
  },
  {
   "cell_type": "markdown",
   "metadata": {},
   "source": [
    "Now, let's have a brief look at how four of these circuits look like for a given $\\theta$."
   ]
  },
  {
   "cell_type": "code",
   "execution_count": 7,
   "metadata": {},
   "outputs": [
    {
     "data": {
      "image/png": "[encoded data removed]",
      "text/plain": [
       "<Figure size 327.252x204.68 with 1 Axes>"
      ]
     },
     "execution_count": 7,
     "metadata": {},
     "output_type": "execute_result"
    }
   ],
   "source": [
    "my_chsh_circuits[4].draw('mpl')"
   ]
  },
  {
   "cell_type": "code",
   "execution_count": 8,
   "metadata": {},
   "outputs": [
    {
     "data": {
      "image/png": "[encoded data removed]",
      "text/plain": [
       "<Figure size 387.452x204.68 with 1 Axes>"
      ]
     },
     "execution_count": 8,
     "metadata": {},
     "output_type": "execute_result"
    }
   ],
   "source": [
    "my_chsh_circuits[5].draw('mpl')"
   ]
  },
  {
   "cell_type": "code",
   "execution_count": 9,
   "metadata": {},
   "outputs": [
    {
     "data": {
      "image/png": "[encoded data removed]",
      "text/plain": [
       "<Figure size 387.452x204.68 with 1 Axes>"
      ]
     },
     "execution_count": 9,
     "metadata": {},
     "output_type": "execute_result"
    }
   ],
   "source": [
    "my_chsh_circuits[6].draw('mpl')"
   ]
  },
  {
   "cell_type": "code",
   "execution_count": 10,
   "metadata": {},
   "outputs": [
    {
     "data": {
      "image/png": "[encoded data removed]",
      "text/plain": [
       "<Figure size 387.452x204.68 with 1 Axes>"
      ]
     },
     "execution_count": 10,
     "metadata": {},
     "output_type": "execute_result"
    }
   ],
   "source": [
    "my_chsh_circuits[7].draw('mpl')"
   ]
  },
  {
   "cell_type": "markdown",
   "metadata": {},
   "source": [
    "These circuits are simply creating a Bell pair, and then measuring each party in a different basis. While Bob ($q_1$) always measures either in the computational basis or the $X$ basis, Alice's measurement basis rotates by the angle $\\theta$ with respect to Bob's."
   ]
  },
  {
   "cell_type": "code",
   "execution_count": 11,
   "metadata": {
    "scrolled": true,
    "tags": [
     "uses-hardware"
    ]
   },
   "outputs": [
    {
     "name": "stdout",
     "output_type": "stream",
     "text": [
      "[2.00390625, 0.974609375, -0.26953125, -1.435546875, -2.375, -2.736328125, -2.66015625, -1.96875, -0.966796875, 0.33984375, 1.447265625, 2.376953125, 2.7734375, 2.58203125, 2.05078125]\n"
     ]
    }
   ],
   "source": [
    "from qiskit.providers.ibmq import least_busy\n",
    "from qiskit.tools.monitor import job_monitor\n",
    "# Execute and get counts\n",
    "result_ideal = execute(my_chsh_circuits, qasm_sim).result()\n",
    "#print(result_ideal.get_counts())\n",
    "\n",
    "CHSH1_ideal= compute_chsh_witness(result_ideal.get_counts())\n",
    "print(CHSH1_ideal)"
   ]
  },
  {
   "cell_type": "markdown",
   "metadata": {},
   "source": [
    "## Once we have the circuit we build the Noise models and apply them to the circuit"
   ]
  },
  {
   "cell_type": "code",
   "execution_count": 12,
   "metadata": {},
   "outputs": [
    {
     "name": "stdout",
     "output_type": "stream",
     "text": [
      "8.106666666666666e-07\n",
      "5.35111111111111e-06\n",
      "35.55555555555556\n",
      "35.55555555555556\n"
     ]
    }
   ],
   "source": [
    "# Some useful functions\n",
    "def getSQGateExecutionTime(gate, backend, names):\n",
    "    '''Returns the average execution time of the single-qubit type gates we are interested in.'''\n",
    "    # Single qubit gates\n",
    "    s = [0]*len(names)\n",
    "    for i in range(0,len(names)):\n",
    "        #s[i] = backend.properties().gate_length(gate, [i])\n",
    "        s[i] = backend.properties().gate_length(gate, [i])\n",
    "    return (np.mean(s)*(10**9))\n",
    "#backend = provider.backend.ibmq_16_melbourne\n",
    "#backend = provider.backend.ibmq_lima\n",
    "backend = provider.backend.ibmq_belem\n",
    "#backend = provider.backend.ibmqx2\n",
    "print(backend.properties().gate_length('cx',(0,1)))\n",
    "print(backend.properties().readout_length(2))\n",
    "names = [0, 1, 2] # The single-qubit gates that we are interested in\n",
    "gate = \"id\"\n",
    "s = getSQGateExecutionTime(gate,backend,names)\n",
    "print(s)\n",
    "print(backend.properties().gate_length(\"x\",0)*(10**9))\n",
    "def getDecoherenceTimes(data):\n",
    "    '''Returns the thermal relaxation time T1 and the qubit dephasing time T2, as given by IBMQ.'''\n",
    "    t1er = data[\"T1 (us)\"].tolist()\n",
    "    \n",
    "    t2er = data[\"T2 (us)\"].tolist()\n",
    "    \n",
    "\n",
    "    #for i in range(0, len(t1er)):\n",
    "        #t1er[i] = float(t1er[i] + \"e3\")\n",
    "        #t2er[i] = float(t2er[i] + \"e3\") ##Check order of magnitude????\n",
    "\n",
    "    T1s = np.array(t1er)\n",
    "    T2s = np.array(t2er)\n",
    "    \n",
    "    # Check for error in IBMQ's measurements (i.e it must always be T2 <= 2T1)\n",
    "    c = 0\n",
    "    for i in range(0,len(T1s)):\n",
    "        if (T2s[i] > 2*T1s[i]):\n",
    "            c = 1\n",
    "            print(\"ERROR: incompatible decay rates - Qubit Q\" + str(i) + \", T2 =\", T2s[i], \"and T1 =\", T1s[i])\n",
    "    if (c == 0):\n",
    "        print(r'Checking decoherence times: all ok')\n",
    "\n",
    "    return T1s*1000,T2s*1000\n",
    "def getSQGateExecutionTime(gate, backend, names):\n",
    "    '''Returns the average execution time of the single-qubit type gates we are interested in.'''\n",
    "    # Single qubit gates\n",
    "    s = [0]*len(names)\n",
    "    for i in range(0,len(names)):\n",
    "        s[i] = backend.properties().gate_length(gate, [i])\n",
    "\n",
    "    return (np.mean(s)*(10**9))\n",
    "def getTQGateExecutionTime(gate, backend, graph):\n",
    "    '''Returns the average execution time of the two-qubit type gates in the circuit.'''\n",
    "    # Two qubit gates\n",
    "\n",
    "    t = [0]*len(graph)\n",
    "    for i in range(0,len(graph)):\n",
    "        t[i] = backend.properties().gate_length('cx', graph[i])\n",
    "\n",
    "    return (np.mean(t)*(10**9))\n",
    "def getMeasExecutionTime(backend, names):\n",
    "    '''Returns the average measure time of the single-qubit we are interested in.'''\n",
    "    # Single qubit gates\n",
    "    s = [0]*len(names)\n",
    "    for i in range(0,len(names)):\n",
    "        s[i] = backend.properties().readout_length(i)\n",
    "    return (np.mean(s))\n",
    "def getSQGateErrorAvg(gate, backend, names):\n",
    "    '''Returns the average execution time of the single-qubit type gates we are interested in.'''\n",
    "    # Single qubit gates\n",
    "    s = [0]*len(names)\n",
    "    for i in range(0,len(names)):\n",
    "        s[i] = backend.properties().gate_error(gate, [i])\n",
    "\n",
    "    return (np.mean(s))\n",
    "def getTQGateErrorAvg(gate, backend, graph):\n",
    "    '''Returns the average execution time of the two-qubit type gates in the circuit.'''\n",
    "    # Two qubit gates\n",
    "\n",
    "    t = [0]*len(graph)\n",
    "    for i in range(0,len(graph)):\n",
    "        t[i] = backend.properties().gate_error('cx', graph[i])\n",
    "\n",
    "    return (np.mean(t))\n",
    "def getMeasErorrAvg(backend, names):\n",
    "    '''Returns the average measure time of the single-qubit we are interested in.'''\n",
    "    # Single qubit gates\n",
    "    s = [0]*len(names)\n",
    "    for i in range(0,len(names)):\n",
    "        s[i] = backend.properties().readout_error(i)\n",
    "    return (np.mean(s))"
   ]
  },
  {
   "cell_type": "markdown",
   "metadata": {},
   "source": [
    "## DEPOLARIZING CHANNEL USING ONLY ONE PROPERTY OF THE QUBIT"
   ]
  },
  {
   "cell_type": "code",
   "execution_count": 13,
   "metadata": {},
   "outputs": [
    {
     "name": "stdout",
     "output_type": "stream",
     "text": [
      "0.00024682387181495813\n",
      "0.02237066574725277\n",
      "0.03289999999999993\n",
      "5.35111111111111e-06\n"
     ]
    }
   ],
   "source": [
    "# Create the error channels\n",
    "\n",
    "prob_1 = backend.properties().gate_error('x',1)\n",
    "print(prob_1)\n",
    "prob_2 = backend.properties().gate_error('cx',(0,1))\n",
    "print(prob_2)\n",
    "p_error = backend.properties().readout_error(0)\n",
    "print(p_error)\n",
    "\n",
    "print(backend.properties().readout_length(0))\n",
    "\n",
    "# Depolarizing quantum errors\n",
    "error_1 = noise.depolarizing_error(prob_1, 1)\n",
    "error_2 = noise.depolarizing_error(prob_2, 2)\n",
    "\n",
    "\n",
    "# State preparation and Measurement (SPAM) Channel\n",
    "\n",
    "bit_flip = pauli_error([('X', p_error), ('I', 1 - p_error)])\n",
    "\n",
    "\n",
    "\n",
    "#time_reset = 1000  # 1 microsecond\n",
    "#time_measure = 1000 # 1 microsecond\n",
    "noise_thermal = NoiseModel()\n",
    "\n",
    "noise_thermal.add_all_qubit_quantum_error(bit_flip, \"reset\")\n",
    "noise_thermal.add_all_qubit_quantum_error(bit_flip, \"measure\")\n",
    "noise_thermal.add_all_qubit_quantum_error(error_1, [\"h\",\"x\",\"z\"])\n",
    "noise_thermal.add_all_qubit_quantum_error(error_2, \"cx\")\n",
    "\n",
    "\n",
    "\n",
    "\n"
   ]
  },
  {
   "cell_type": "code",
   "execution_count": 14,
   "metadata": {},
   "outputs": [
    {
     "name": "stdout",
     "output_type": "stream",
     "text": [
      "[1.755859375, 0.767578125, -0.30859375, -1.31640625, -2.068359375, -2.40625, -2.373046875, -1.75, -0.822265625, 0.220703125, 1.310546875, 2.029296875, 2.353515625, 2.263671875, 1.75]\n"
     ]
    }
   ],
   "source": [
    "## We execute the circuit with this noise model\n",
    "simulate_ND1 = execute(my_chsh_circuits, backend = Aer.get_backend(\"qasm_simulator\"), basis_gates=noise_thermal.basis_gates, \n",
    "                               noise_model=noise_thermal, shots=1024).result()\n",
    "countsND1 = simulate_ND1.get_counts()\n",
    "\n",
    "CHSH1_ND1 = compute_chsh_witness(countsND1)\n",
    "print(CHSH1_ND1)\n"
   ]
  },
  {
   "cell_type": "markdown",
   "metadata": {},
   "source": [
    "## DEPOLARIZING CHANNEL USING THE PROPERTIES OF EACH QUBIT"
   ]
  },
  {
   "cell_type": "code",
   "execution_count": 15,
   "metadata": {},
   "outputs": [
    {
     "name": "stdout",
     "output_type": "stream",
     "text": [
      "0.0003623984303560909\n",
      "0.00024682387181495813\n",
      "0.03289999999999993\n",
      "0.02400000000000002\n"
     ]
    }
   ],
   "source": [
    "# Create the error channels\n",
    "\n",
    "prob_10 = backend.properties().gate_error('x',0)\n",
    "print(prob_10)\n",
    "prob_11 = backend.properties().gate_error('x',1)\n",
    "print(prob_11)\n",
    "#prob_12 = backend.properties().gate_error('x',2)\n",
    "\n",
    "prob_20 = backend.properties().gate_error('cx',(0,1))\n",
    "#prob_21 = backend.properties().gate_error('cx',(1,2))\n",
    "p_error0 = backend.properties().readout_error(0)\n",
    "print(p_error0)\n",
    "p_error1 = backend.properties().readout_error(1)\n",
    "print(p_error1)\n",
    "#p_error2 = backend.properties().readout_error(2)\n",
    "#print(backend.properties().readout_length(0))\n",
    "\n",
    "# Depolarizing quantum errors\n",
    "error_10 = noise.depolarizing_error(prob_10, 1)\n",
    "error_11 = noise.depolarizing_error(prob_11, 1)\n",
    "#error_12 = noise.depolarizing_error(prob_12, 1)\n",
    "error_20 = noise.depolarizing_error(prob_20, 2)\n",
    "#error_21 = noise.depolarizing_error(prob_20, 2)\n",
    "\n",
    "\n",
    "# State preparation and Measurement (SPAM) Channel\n",
    "\n",
    "bit_flip0 = pauli_error([('X', p_error0), ('I', 1 - p_error0)])\n",
    "bit_flip1 = pauli_error([('X', p_error1), ('I', 1 - p_error1)])\n",
    "#bit_flip2 = pauli_error([('X', p_error2), ('I', 1 - p_error2)])\n",
    "\n",
    "noise_thermal = NoiseModel()\n",
    "\n",
    "noise_thermal.add_quantum_error(bit_flip0, \"reset\",[0])\n",
    "noise_thermal.add_quantum_error(bit_flip1, \"reset\",[1])\n",
    "#noise_thermal.add_quantum_error(bit_flip2, \"reset\",[2])\n",
    "noise_thermal.add_quantum_error(bit_flip0, \"measure\",[0])\n",
    "noise_thermal.add_quantum_error(bit_flip1, \"measure\",[1])\n",
    "#noise_thermal.add_quantum_error(bit_flip2, \"measure\",[2])\n",
    "noise_thermal.add_quantum_error(error_10, [\"h\",\"x\",\"z\"],[0])\n",
    "noise_thermal.add_quantum_error(error_11, [\"h\",\"x\",\"z\"],[1])\n",
    "#noise_thermal.add_quantum_error(error_12, [\"h\",\"x\",\"z\"],[2])\n",
    "\n",
    "noise_thermal.add_quantum_error(error_20, \"cx\",(0,1))\n",
    "#noise_thermal.add_quantum_error(error_20, \"cx\",(1,2))"
   ]
  },
  {
   "cell_type": "code",
   "execution_count": 16,
   "metadata": {},
   "outputs": [
    {
     "name": "stdout",
     "output_type": "stream",
     "text": [
      "[1.701171875, 0.7890625, -0.291015625, -1.2890625, -2.1015625, -2.44921875, -2.28125, -1.6953125, -0.837890625, 0.330078125, 1.322265625, 2.03125, 2.392578125, 2.29296875, 1.703125]\n"
     ]
    }
   ],
   "source": [
    "## We execute the circuit with this noise model\n",
    "simulate_NDD = execute(my_chsh_circuits, backend = Aer.get_backend(\"qasm_simulator\"), basis_gates=noise_thermal.basis_gates, \n",
    "                               noise_model=noise_thermal, shots=1024).result()\n",
    "countsNDD = simulate_NDD.get_counts()\n",
    "\n",
    "CHSH1_NDD = compute_chsh_witness(countsNDD)\n",
    "print(CHSH1_NDD)"
   ]
  },
  {
   "cell_type": "markdown",
   "metadata": {},
   "source": [
    "## DEPOLARIZING CHANNEL USING AVERAGED PROPERTIES OF THE QUBITS"
   ]
  },
  {
   "cell_type": "code",
   "execution_count": 17,
   "metadata": {},
   "outputs": [
    {
     "name": "stdout",
     "output_type": "stream",
     "text": [
      "0.0003046111510855245\n",
      "0.02237066574725277\n"
     ]
    }
   ],
   "source": [
    "# Create the error channels\n",
    "\n",
    "graph = [[0,1]] # The two-qubit gates that we are interested in\n",
    "names = [0, 1] # The single-qubit gates that we are interested in\n",
    "# Instruction times (in nanoseconds)\n",
    "prob_1 = getSQGateErrorAvg('x', backend, names)\n",
    "print(prob_1)\n",
    "\n",
    "prob_2 = getTQGateErrorAvg('cx', backend, graph)\n",
    "print(prob_2)\n",
    "\n",
    "p_error = getMeasErorrAvg(backend, names)\n",
    "#print(p_error)\n",
    "\n",
    "#p_error = backend.properties().readout_error(0)\n",
    "\n",
    "\n",
    "\n",
    "# Depolarizing quantum errors\n",
    "error_1 = noise.depolarizing_error(prob_1, 1)\n",
    "error_2 = noise.depolarizing_error(prob_2, 2)\n",
    "\n",
    "\n",
    "# State preparation and Measurement (SPAM) Channel\n",
    "\n",
    "bit_flip = pauli_error([('X', p_error), ('I', 1 - p_error)])\n",
    "\n",
    "\n",
    "\n",
    "#time_reset = 1000  # 1 microsecond\n",
    "#time_measure = 1000 # 1 microsecond\n",
    "noise_thermal = NoiseModel()\n",
    "\n",
    "noise_thermal.add_all_qubit_quantum_error(bit_flip, \"reset\")\n",
    "noise_thermal.add_all_qubit_quantum_error(bit_flip, \"measure\")\n",
    "noise_thermal.add_all_qubit_quantum_error(error_1, [\"h\",\"x\",\"z\"])\n",
    "noise_thermal.add_all_qubit_quantum_error(error_2, \"cx\")"
   ]
  },
  {
   "cell_type": "code",
   "execution_count": 18,
   "metadata": {},
   "outputs": [
    {
     "name": "stdout",
     "output_type": "stream",
     "text": [
      "[1.76171875, 0.8046875, -0.234375, -1.365234375, -2.107421875, -2.376953125, -2.314453125, -1.703125, -0.8046875, 0.171875, 1.2734375, 2.09375, 2.466796875, 2.2578125, 1.685546875]\n"
     ]
    }
   ],
   "source": [
    "## We execute the circuit with this noise model\n",
    "simulate_NDA = execute(my_chsh_circuits, backend = Aer.get_backend(\"qasm_simulator\"), basis_gates=noise_thermal.basis_gates, \n",
    "                               noise_model=noise_thermal, shots=1024).result()\n",
    "countsNDA = simulate_NDA.get_counts()\n",
    "\n",
    "CHSH1_NDA = compute_chsh_witness(countsNDA)\n",
    "print(CHSH1_NDA)"
   ]
  },
  {
   "cell_type": "code",
   "execution_count": null,
   "metadata": {},
   "outputs": [],
   "source": []
  },
  {
   "cell_type": "markdown",
   "metadata": {},
   "source": [
    "## DEPOLARIZING + THERMAL RELAXATION CHANNELS USING AVERAGED PROPERTIES OF THE QUBITS FOR THE DEPOLARIZING CHANNEL"
   ]
  },
  {
   "cell_type": "code",
   "execution_count": 19,
   "metadata": {},
   "outputs": [
    {
     "name": "stdout",
     "output_type": "stream",
     "text": [
      "5.35111111111111e-06\n",
      "Checking decoherence times: all ok\n",
      "5.35111111111111e-06\n",
      "QuantumError on 1 qubits. Noise circuits:\n",
      "  P(0) = 1.0, QasmQobjInstructions = [[{'name': 'id', 'qubits': [0]}]\n",
      "QuantumError on 1 qubits. Noise circuits:\n",
      "  P(0) = 1.0, QasmQobjInstructions = [[{'name': 'kraus', 'qubits': [0], 'params': [array([[-0.99985059+0.j,  0.        +0.j],\n",
      "       [ 0.        +0.j, -0.99963356+0.j]]), array([[-0.0121063 +0.j,  0.        +0.j],\n",
      "       [ 0.        +0.j,  0.01210893+0.j]]), array([[0.        +0.j, 0.        +0.j],\n",
      "       [0.01233854+0.j, 0.        +0.j]]), array([[0.        +0.j, 0.02420992+0.j],\n",
      "       [0.        +0.j, 0.        +0.j]])]}]\n",
      "NoiseModel:\n",
      "  Basis gates: ['cx', 'h', 'id', 'p', 'u', 'u3', 'x', 'z']\n",
      "  Instructions with noise: ['h', 'u', 'p', 'measure', 'x', 'z', 'reset', 'cx']\n",
      "  Qubits with noise: [0, 1, 2, 3, 4]\n",
      "  Specific qubit errors: [('reset', [0]), ('reset', [1]), ('reset', [2]), ('reset', [3]), ('reset', [4]), ('measure', [0]), ('measure', [1]), ('measure', [2]), ('measure', [3]), ('measure', [4]), ('p', [0]), ('p', [1]), ('p', [2]), ('p', [3]), ('p', [4]), ('h', [0]), ('h', [1]), ('h', [2]), ('h', [3]), ('h', [4]), ('x', [0]), ('x', [1]), ('x', [2]), ('x', [3]), ('x', [4]), ('z', [0]), ('z', [1]), ('z', [2]), ('z', [3]), ('z', [4]), ('u', [0]), ('u', [1]), ('u', [2]), ('u', [3]), ('u', [4]), ('cx', [0, 0]), ('cx', [0, 1]), ('cx', [0, 2]), ('cx', [0, 3]), ('cx', [0, 4]), ('cx', [1, 0]), ('cx', [1, 1]), ('cx', [1, 2]), ('cx', [1, 3]), ('cx', [1, 4]), ('cx', [2, 0]), ('cx', [2, 1]), ('cx', [2, 2]), ('cx', [2, 3]), ('cx', [2, 4]), ('cx', [3, 0]), ('cx', [3, 1]), ('cx', [3, 2]), ('cx', [3, 3]), ('cx', [3, 4]), ('cx', [4, 0]), ('cx', [4, 1]), ('cx', [4, 2]), ('cx', [4, 3]), ('cx', [4, 4])]\n"
     ]
    }
   ],
   "source": [
    "# Create the error channels\n",
    " \n",
    "prob_10 = backend.properties().gate_error('x',0)\n",
    "prob_11 = backend.properties().gate_error('x',1)\n",
    "prob_12 = backend.properties().gate_error('x',2)\n",
    "\n",
    "prob_20 = backend.properties().gate_error('cx',(0,1))\n",
    "prob_21 = backend.properties().gate_error('cx',(1,2))\n",
    "p_error0 = backend.properties().readout_error(0)\n",
    "p_error1 = backend.properties().readout_error(1)\n",
    "p_error2 = backend.properties().readout_error(2)\n",
    "print(backend.properties().readout_length(0))\n",
    "\n",
    "###\n",
    "prob_1 = getSQGateErrorAvg('x', backend, names)\n",
    "\n",
    "prob_2 = getTQGateErrorAvg('cx', backend, graph)\n",
    "p_error = getMeasErorrAvg(backend, names)\n",
    "#p_error = backend.properties().readout_error(0)\n",
    "\n",
    "# Depolarizing quantum errors\n",
    "error_10 = noise.depolarizing_error(prob_10, 1)\n",
    "error_11 = noise.depolarizing_error(prob_11, 1)\n",
    "error_12 = noise.depolarizing_error(prob_12, 1)\n",
    "error_20 = noise.depolarizing_error(prob_20, 2)\n",
    "error_21 = noise.depolarizing_error(prob_20, 2)\n",
    "error_1 = noise.depolarizing_error(prob_1, 1)\n",
    "error_2 = noise.depolarizing_error(prob_2, 1)\n",
    "\n",
    "\n",
    "# State preparation and Measurement (SPAM) Channel\n",
    "\n",
    "bit_flip =  pauli_error([('X', p_error), ('I', 1 - p_error)])\n",
    "bit_flip0 = pauli_error([('X', p_error0), ('I', 1 - p_error0)])\n",
    "bit_flip1 = pauli_error([('X', p_error1), ('I', 1 - p_error1)])\n",
    "bit_flip2 = pauli_error([('X', p_error2), ('I', 1 - p_error2)])\n",
    "\n",
    "# Thermal Relaxation Channel\n",
    "#data = pd.read_csv(\"/Users/rgomezlu/Google_Drive/Màster/TFM/Programació/qnoisecomb-master/ibmq_16_melbourne_calibrations.csv\")\n",
    "data = pd.read_csv(\"/Users/rgomezlu/Google_Drive/Màster/TFM/Programació/qnoisecomb-master/ibmq_belem_calibrations.csv\")\n",
    "#data = pd.read_csv(\"/Users/rgomezlu/Google_Drive/Màster/TFM/Programació/qnoisecomb-master/ibmqx2_calibrations.csv\")\n",
    "T1s,T2s = getDecoherenceTimes(data)\n",
    "# T1 and T2 values for qubits 0-3\n",
    "#T1s = np.random.normal(50e3, 10e3, 4) # Sampled from normal distribution mean 50 microsec\n",
    "#T2s = np.random.normal(70e3, 10e3, 4)  # Sampled from normal distribution mean 50 microsec\n",
    "\n",
    "# Truncate random T2s <= T1s\n",
    "#T2s = np.array([min(T2s[j], 2 * T1s[j]) for j in range(4)])\n",
    "graph = [[0,1], [1,2]] # The two-qubit gates that we are interested in\n",
    "names = [0, 1, 2] # The single-qubit gates that we are interested in\n",
    "# Instruction times (in nanoseconds)\n",
    "time_u1 = 10 # virtual gate\n",
    "time_x = getSQGateExecutionTime('x', backend, names) # Average of all u2 times\n",
    "#time_u3 = getSQGateExecutionTime('x', backend, gates) # Average of all u3 times\n",
    "time_cx = getTQGateExecutionTime('cx', backend, graph) # Average of all cx times\n",
    "time_reset = getMeasExecutionTime(backend, names)# Average of all meas times\n",
    "time_measure = getMeasExecutionTime(backend, names)# Average of reset times \n",
    "print(time_measure)\n",
    "#time_reset = 1000  # 1 microsecond\n",
    "#time_measure = 1000 # 1 microsecond\n",
    "\n",
    "# QuantumError objects\n",
    "\n",
    "errors_measure = [thermal_relaxation_error(t1, t2, time_measure)\n",
    "                    for t1, t2 in zip(T1s, T2s)]\n",
    "print(errors_measure[0])\n",
    "for i in range(len(errors_measure)):\n",
    "    errors_measure[i] = bit_flip.compose(errors_measure[i])\n",
    "errors_x  = [thermal_relaxation_error(t1, t2, time_x)\n",
    "             for t1, t2 in zip(T1s, T2s)]\n",
    "\n",
    "for i in range(len(errors_x)):\n",
    "    errors_x[i] = error_1.compose(errors_x[i])\n",
    "print(errors_x[0])\n",
    "#print((error_2.compose(thermal_relaxation_error(T1s[0], T2s[0], time_cx))).expand(error_2.compose(\n",
    "                 #thermal_relaxation_error(T1s[2], T2s[2], time_cx))))\n",
    "\n",
    "errors_cx = [[thermal_relaxation_error(t1a, t2a, time_cx).expand(\n",
    "                 thermal_relaxation_error(t1b, t2b, time_cx))\n",
    "                  for t1a, t2a in zip(T1s, T2s)]\n",
    "                   for t1b, t2b in zip(T1s, T2s)]\n",
    "\n",
    "\n",
    "\n",
    "noise_thermal = NoiseModel()\n",
    "\n",
    "for j in range(len(T1s)):\n",
    "        noise_thermal.add_quantum_error(errors_measure[j], \"reset\", [j])\n",
    "        noise_thermal.add_quantum_error(errors_measure[j], \"measure\", [j])\n",
    "        #noise_thermal.add_quantum_error(errors_u1[j], \"u1\", [j])\n",
    "        noise_thermal.add_quantum_error(errors_x[j], \"p\", [j])\n",
    "        noise_thermal.add_quantum_error(errors_x[j], \"h\", [j])\n",
    "        noise_thermal.add_quantum_error(errors_x[j], \"x\", [j])\n",
    "        noise_thermal.add_quantum_error(errors_x[j], \"z\", [j])\n",
    "        #noise_thermal.add_quantum_error(errors_u2[j], \"u2\", [j])\n",
    "        #noise_thermal.add_quantum_error(errors_u3[j], \"u3\", [j])\n",
    "        noise_thermal.add_quantum_error(errors_x[j], \"u\", [j])\n",
    "        \n",
    "        for k in range(len(T1s)):\n",
    "            noise_thermal.add_quantum_error(errors_cx[j][k], \"cx\", [j, k])\n",
    "\n",
    "\n",
    "        \n",
    "print(noise_thermal)"
   ]
  },
  {
   "cell_type": "code",
   "execution_count": 20,
   "metadata": {},
   "outputs": [
    {
     "name": "stdout",
     "output_type": "stream",
     "text": [
      "[1.751953125, 0.876953125, -0.267578125, -1.33984375, -2.111328125, -2.474609375, -2.373046875, -1.861328125, -0.736328125, 0.228515625, 1.181640625, 2.115234375, 2.462890625, 2.322265625, 1.8203125]\n"
     ]
    }
   ],
   "source": [
    "## We execute the circuit with this noise model\n",
    "simulate_TR = execute(my_chsh_circuits, backend = Aer.get_backend(\"qasm_simulator\"), basis_gates=noise_thermal.basis_gates, \n",
    "                               noise_model=noise_thermal, shots=1024).result()\n",
    "countsTR = simulate_TR.get_counts()\n",
    "CHSH1_TR= compute_chsh_witness(countsTR)\n",
    "print(CHSH1_TR)"
   ]
  },
  {
   "cell_type": "markdown",
   "metadata": {},
   "source": [
    "## Run on a real quantum computer"
   ]
  },
  {
   "cell_type": "markdown",
   "metadata": {},
   "source": [
    "tic = time.time()\n",
    "#backend = least_busy(provider.backends(filters=lambda b: b.configuration().n_qubits >= 3 and\n",
    "                                   #not b.configuration().simulator and b.status().operational==True))\n",
    "backend = provider.backend.ibmq_belem\n",
    "job_real = execute(my_chsh_circuits, backend=backend, shots=1024)\n",
    "job_monitor(job_real)\n",
    "result_real = job_real.result()\n",
    "toc = time.time()\n",
    "\n",
    "print(toc-tic)\n",
    "CHSH1_real, CHSH2_real = compute_chsh_witness(result_real.get_counts())"
   ]
  },
  {
   "cell_type": "markdown",
   "metadata": {},
   "source": [
    "## Read data from csv"
   ]
  },
  {
   "cell_type": "code",
   "execution_count": 37,
   "metadata": {},
   "outputs": [
    {
     "name": "stdout",
     "output_type": "stream",
     "text": [
      "[1.76171875, 0.90234375, -0.166015625, -1.0625, -1.78125, -2.134765625, -2.17578125, -1.779296875, -0.91796875, 0.08984375, 1.1328125, 1.88671875, 2.18359375, 2.14453125, 1.744140625]\n"
     ]
    }
   ],
   "source": [
    "import json\n",
    "\n",
    "#data = result_real.get_counts()\n",
    "#print(len(data))\n",
    "\n",
    "\n",
    "# Serialize data into file:\n",
    "#json.dump( data, open( \"/Users/rgomezlu/Google_Drive/Màster/TFM/Programació/jobs/belem/Bell/3/4.json\", 'w' ) )\n",
    "\n",
    "# Read data from file:\n",
    "data = json.load( open( \"/Users/rgomezlu/Google_Drive/Màster/TFM/Programació/jobs/belem/Bell/3/3.json\" ) )\n",
    "#data = json.load( open( \"/Users/rgomezlu/Google_Drive/Màster/TFM/Programació/jobs/yorktown/Bell/3/3.json\" ) )\n",
    "CHSH1_real= compute_chsh_witness(data)\n",
    "print(CHSH1_real)"
   ]
  },
  {
   "cell_type": "code",
   "execution_count": 22,
   "metadata": {},
   "outputs": [
    {
     "name": "stdout",
     "output_type": "stream",
     "text": [
      "[{'00': 485, '01': 43, '10': 59, '11': 437}, {'00': 289, '01': 250, '10': 217, '11': 268}, {'00': 263, '01': 264, '10': 286, '11': 211}, {'00': 490, '01': 42, '10': 61, '11': 431}, {'00': 413, '01': 56, '10': 83, '11': 472}, {'00': 181, '01': 331, '10': 316, '11': 196}, {'00': 350, '01': 166, '10': 192, '11': 316}, {'00': 458, '01': 83, '10': 51, '11': 432}, {'00': 400, '01': 106, '10': 130, '11': 388}, {'00': 120, '01': 415, '10': 409, '11': 80}, {'00': 438, '01': 77, '10': 99, '11': 410}, {'00': 401, '01': 109, '10': 116, '11': 398}, {'00': 317, '01': 199, '10': 219, '11': 289}, {'00': 89, '01': 428, '10': 456, '11': 51}, {'00': 451, '01': 40, '10': 66, '11': 467}, {'00': 335, '01': 185, '10': 187, '11': 317}, {'00': 231, '01': 274, '10': 301, '11': 218}, {'00': 83, '01': 436, '10': 470, '11': 35}, {'00': 433, '01': 52, '10': 63, '11': 476}, {'00': 250, '01': 271, '10': 299, '11': 204}, {'00': 149, '01': 326, '10': 422, '11': 127}, {'00': 141, '01': 394, '10': 421, '11': 68}, {'00': 416, '01': 73, '10': 109, '11': 426}, {'00': 155, '01': 374, '10': 362, '11': 133}, {'00': 74, '01': 464, '10': 457, '11': 29}, {'00': 204, '01': 351, '10': 343, '11': 126}, {'00': 342, '01': 136, '10': 191, '11': 355}, {'00': 112, '01': 425, '10': 425, '11': 62}, {'00': 69, '01': 425, '10': 506, '11': 24}, {'00': 275, '01': 259, '10': 278, '11': 212}, {'00': 290, '01': 217, '10': 248, '11': 269}, {'00': 68, '01': 460, '10': 472, '11': 24}, {'00': 96, '01': 394, '10': 498, '11': 36}, {'00': 365, '01': 169, '10': 207, '11': 283}, {'00': 199, '01': 340, '10': 321, '11': 164}, {'00': 96, '01': 431, '10': 456, '11': 41}, {'00': 127, '01': 364, '10': 439, '11': 94}, {'00': 462, '01': 98, '10': 128, '11': 336}, {'00': 137, '01': 365, '10': 442, '11': 80}, {'00': 156, '01': 366, '10': 390, '11': 112}, {'00': 209, '01': 266, '10': 352, '11': 197}, {'00': 477, '01': 56, '10': 77, '11': 414}, {'00': 77, '01': 390, '10': 521, '11': 36}, {'00': 252, '01': 280, '10': 324, '11': 168}, {'00': 310, '01': 210, '10': 228, '11': 276}, {'00': 504, '01': 45, '10': 57, '11': 418}, {'00': 61, '01': 450, '10': 487, '11': 26}, {'00': 321, '01': 191, '10': 264, '11': 248}, {'00': 381, '01': 99, '10': 162, '11': 382}, {'00': 419, '01': 106, '10': 108, '11': 391}, {'00': 95, '01': 387, '10': 482, '11': 60}, {'00': 420, '01': 137, '10': 163, '11': 304}, {'00': 450, '01': 53, '10': 103, '11': 418}, {'00': 414, '01': 140, '10': 152, '11': 318}, {'00': 186, '01': 323, '10': 369, '11': 146}, {'00': 479, '01': 70, '10': 100, '11': 375}, {'00': 462, '01': 30, '10': 44, '11': 488}, {'00': 290, '01': 246, '10': 239, '11': 249}, {'00': 274, '01': 213, '10': 304, '11': 233}, {'00': 534, '01': 30, '10': 59, '11': 401}]\n"
     ]
    }
   ],
   "source": [
    "data = json.load( open( \"/Users/rgomezlu/Google_Drive/Màster/TFM/Programació/jobs/belem/Bell/3/3.json\" ) )\n",
    "print(data)"
   ]
  },
  {
   "cell_type": "markdown",
   "metadata": {
    "tags": [
     "uses-hardware"
    ]
   },
   "source": [
    "## Use of similarity measures to compare the curves"
   ]
  },
  {
   "cell_type": "code",
   "execution_count": 23,
   "metadata": {},
   "outputs": [
    {
     "name": "stdout",
     "output_type": "stream",
     "text": [
      "0.25547791569350425 0.259765625 0.8603440818912869 3.039409408188348 1.97265625\n"
     ]
    },
    {
     "data": {
      "image/png": "[encoded data removed]",
      "text/plain": [
       "<Figure size 432x288 with 1 Axes>"
      ]
     },
     "metadata": {
      "needs_background": "light"
     },
     "output_type": "display_data"
    }
   ],
   "source": [
    "import similaritymeasures\n",
    "\n",
    "exp_data = np.zeros((15, 2))\n",
    "num_data = np.zeros((15, 2))\n",
    "\n",
    "exp_data[:, 0] = theta_vec\n",
    "exp_data[:, 1] = CHSH1_real\n",
    "\n",
    "num_data[:, 0] = theta_vec\n",
    "num_data[:, 1] = CHSH1_NDA\n",
    "\n",
    "# quantify the difference between the two curves using PCM\n",
    "pcm = similaritymeasures.pcm(exp_data, num_data)\n",
    "\n",
    "# quantify the difference between the two curves using\n",
    "# Discrete Frechet distance\n",
    "df = similaritymeasures.frechet_dist(exp_data, num_data)\n",
    "\n",
    "# quantify the difference between the two curves using\n",
    "# area between two curves\n",
    "area = similaritymeasures.area_between_two_curves(exp_data, num_data)\n",
    "\n",
    "# quantify the difference between the two curves using\n",
    "# Curve Length based similarity measure\n",
    "cl = similaritymeasures.curve_length_measure(exp_data, num_data)\n",
    "\n",
    "# quantify the difference between the two curves using\n",
    "# Dynamic Time Warping distance\n",
    "dtw, d = similaritymeasures.dtw(exp_data, num_data)\n",
    "\n",
    "# print the results\n",
    "print(pcm, df, area, cl, dtw)\n",
    "\n",
    "# plot the data\n",
    "plt.figure()\n",
    "plt.plot(exp_data[:, 0], exp_data[:, 1], 'o-')\n",
    "plt.plot(num_data[:, 0],num_data[:, 1], '*-')\n",
    "plt.show()"
   ]
  },
  {
   "cell_type": "code",
   "execution_count": 24,
   "metadata": {},
   "outputs": [
    {
     "name": "stdout",
     "output_type": "stream",
     "text": [
      "0.22680500289761554 0.40234375 0.9874453471732458 2.5171661510355556 2.23828125\n"
     ]
    },
    {
     "data": {
      "image/png": "[encoded data removed]",
      "text/plain": [
       "<Figure size 432x288 with 1 Axes>"
      ]
     },
     "metadata": {
      "needs_background": "light"
     },
     "output_type": "display_data"
    }
   ],
   "source": [
    "import similaritymeasures\n",
    "\n",
    "# Read data from file:\n",
    "data = json.load( open( \"/Users/rgomezlu/Google_Drive/Màster/TFM/Programació/jobs/belem/Bell/2/2.json\" ) )\n",
    "#data = json.load( open( \"/Users/rgomezlu/Google_Drive/Màster/TFM/Programació/jobs/yorktown/Bell/2/2.json\" ) )\n",
    "#print(data)\n",
    "CHSH1_real2= compute_chsh_witness(data)\n",
    "\n",
    "\n",
    "exp_data = np.zeros((15, 2))\n",
    "num_data = np.zeros((15, 2))\n",
    "\n",
    "exp_data[:, 0] = theta_vec\n",
    "exp_data[:, 1] = CHSH1_real2\n",
    "\n",
    "num_data[:, 0] = theta_vec\n",
    "num_data[:, 1] = CHSH1_NDA\n",
    "\n",
    "# quantify the difference between the two curves using PCM\n",
    "pcm = similaritymeasures.pcm(exp_data, num_data)\n",
    "\n",
    "# quantify the difference between the two curves using\n",
    "# Discrete Frechet distance\n",
    "df = similaritymeasures.frechet_dist(exp_data, num_data)\n",
    "\n",
    "# quantify the difference between the two curves using\n",
    "# area between two curves\n",
    "area = similaritymeasures.area_between_two_curves(exp_data, num_data)\n",
    "\n",
    "# quantify the difference between the two curves using\n",
    "# Curve Length based similarity measure\n",
    "cl = similaritymeasures.curve_length_measure(exp_data, num_data)\n",
    "\n",
    "# quantify the difference between the two curves using\n",
    "# Dynamic Time Warping distance\n",
    "dtw, d = similaritymeasures.dtw(exp_data, num_data)\n",
    "\n",
    "# print the results\n",
    "print(pcm, df, area, cl, dtw)\n",
    "\n",
    "# plot the data\n",
    "plt.figure()\n",
    "plt.plot(exp_data[:, 0], exp_data[:, 1], 'o-')\n",
    "plt.plot(num_data[:, 0],num_data[:, 1], '*-')\n",
    "plt.show()"
   ]
  },
  {
   "cell_type": "code",
   "execution_count": 25,
   "metadata": {},
   "outputs": [
    {
     "name": "stdout",
     "output_type": "stream",
     "text": [
      "0.2180157159715605 0.26171875 0.8927768185494427 2.6639986412851417 2.03125\n"
     ]
    },
    {
     "data": {
      "image/png": "[encoded data removed]",
      "text/plain": [
       "<Figure size 432x288 with 1 Axes>"
      ]
     },
     "metadata": {
      "needs_background": "light"
     },
     "output_type": "display_data"
    }
   ],
   "source": [
    "\n",
    "exp_data = np.zeros((15, 2))\n",
    "num_data = np.zeros((15, 2))\n",
    "\n",
    "exp_data[:, 0] = theta_vec\n",
    "exp_data[:, 1] = CHSH1_real\n",
    "\n",
    "num_data[:, 0] = theta_vec\n",
    "num_data[:, 1] = CHSH1_ND1\n",
    "\n",
    "# quantify the difference between the two curves using PCM\n",
    "pcm = similaritymeasures.pcm(exp_data, num_data)\n",
    "\n",
    "# quantify the difference between the two curves using\n",
    "# Discrete Frechet distance\n",
    "df = similaritymeasures.frechet_dist(exp_data, num_data)\n",
    "\n",
    "# quantify the difference between the two curves using\n",
    "# area between two curves\n",
    "area = similaritymeasures.area_between_two_curves(exp_data, num_data)\n",
    "\n",
    "# quantify the difference between the two curves using\n",
    "# Curve Length based similarity measure\n",
    "cl = similaritymeasures.curve_length_measure(exp_data, num_data)\n",
    "\n",
    "# quantify the difference between the two curves using\n",
    "# Dynamic Time Warping distance\n",
    "dtw, d = similaritymeasures.dtw(exp_data, num_data)\n",
    "\n",
    "# print the results\n",
    "print(pcm, df, area, cl, dtw)\n",
    "\n",
    "# plot the data\n",
    "plt.figure()\n",
    "plt.plot(exp_data[:, 0], exp_data[:, 1], 'o-')\n",
    "plt.plot(num_data[:, 0],num_data[:, 1], '*-')\n",
    "plt.show()"
   ]
  },
  {
   "cell_type": "code",
   "execution_count": 26,
   "metadata": {},
   "outputs": [
    {
     "name": "stdout",
     "output_type": "stream",
     "text": [
      "0.19798932586066298 0.36328125 1.0172484024807367 1.768889145960924 2.31640625\n"
     ]
    },
    {
     "data": {
      "image/png": "[encoded data removed]",
      "text/plain": [
       "<Figure size 432x288 with 1 Axes>"
      ]
     },
     "metadata": {
      "needs_background": "light"
     },
     "output_type": "display_data"
    }
   ],
   "source": [
    "# Read data from file:\n",
    "data = json.load( open( \"/Users/rgomezlu/Google_Drive/Màster/TFM/Programació/jobs/belem/Bell/2/2.json\" ) )\n",
    "#data = json.load( open( \"/Users/rgomezlu/Google_Drive/Màster/TFM/Programació/jobs/yorktown/Bell/2/2.json\" ) )\n",
    "#print(data)\n",
    "CHSH1_real2= compute_chsh_witness(data)\n",
    "\n",
    "exp_data = np.zeros((15, 2))\n",
    "num_data = np.zeros((15, 2))\n",
    "\n",
    "exp_data[:, 0] = theta_vec\n",
    "exp_data[:, 1] = CHSH1_real2\n",
    "\n",
    "num_data[:, 0] = theta_vec\n",
    "num_data[:, 1] = CHSH1_ND1\n",
    "\n",
    "# quantify the difference between the two curves using PCM\n",
    "pcm = similaritymeasures.pcm(exp_data, num_data)\n",
    "\n",
    "# quantify the difference between the two curves using\n",
    "# Discrete Frechet distance\n",
    "df = similaritymeasures.frechet_dist(exp_data, num_data)\n",
    "\n",
    "# quantify the difference between the two curves using\n",
    "# area between two curves\n",
    "area = similaritymeasures.area_between_two_curves(exp_data, num_data)\n",
    "\n",
    "# quantify the difference between the two curves using\n",
    "# Curve Length based similarity measure\n",
    "cl = similaritymeasures.curve_length_measure(exp_data, num_data)\n",
    "\n",
    "# quantify the difference between the two curves using\n",
    "# Dynamic Time Warping distance\n",
    "dtw, d = similaritymeasures.dtw(exp_data, num_data)\n",
    "\n",
    "# print the results\n",
    "print(pcm, df, area, cl, dtw)\n",
    "\n",
    "# plot the data\n",
    "plt.figure()\n",
    "plt.plot(exp_data[:, 0], exp_data[:, 1], 'o-')\n",
    "plt.plot(num_data[:, 0],num_data[:, 1], '*-')\n",
    "plt.show()"
   ]
  },
  {
   "cell_type": "code",
   "execution_count": 27,
   "metadata": {},
   "outputs": [
    {
     "name": "stdout",
     "output_type": "stream",
     "text": [
      "0.2394201360146426 0.3046875 0.9129377089045096 2.9384264341875928 2.05078125\n"
     ]
    },
    {
     "data": {
      "image/png": "[encoded data removed]",
      "text/plain": [
       "<Figure size 432x288 with 1 Axes>"
      ]
     },
     "metadata": {
      "needs_background": "light"
     },
     "output_type": "display_data"
    }
   ],
   "source": [
    "\n",
    "exp_data = np.zeros((15, 2))\n",
    "num_data = np.zeros((15, 2))\n",
    "\n",
    "exp_data[:, 0] = theta_vec\n",
    "exp_data[:, 1] = CHSH1_real\n",
    "\n",
    "num_data[:, 0] = theta_vec\n",
    "num_data[:, 1] = CHSH1_NDD\n",
    "\n",
    "# quantify the difference between the two curves using PCM\n",
    "pcm = similaritymeasures.pcm(exp_data, num_data)\n",
    "\n",
    "# quantify the difference between the two curves using\n",
    "# Discrete Frechet distance\n",
    "df = similaritymeasures.frechet_dist(exp_data, num_data)\n",
    "\n",
    "# quantify the difference between the two curves using\n",
    "# area between two curves\n",
    "area = similaritymeasures.area_between_two_curves(exp_data, num_data)\n",
    "\n",
    "# quantify the difference between the two curves using\n",
    "# Curve Length based similarity measure\n",
    "cl = similaritymeasures.curve_length_measure(exp_data, num_data)\n",
    "\n",
    "# quantify the difference between the two curves using\n",
    "# Dynamic Time Warping distance\n",
    "dtw, d = similaritymeasures.dtw(exp_data, num_data)\n",
    "\n",
    "# print the results\n",
    "print(pcm, df, area, cl, dtw)\n",
    "\n",
    "# plot the data\n",
    "plt.figure()\n",
    "plt.plot(exp_data[:, 0], exp_data[:, 1], 'o-')\n",
    "plt.plot(num_data[:, 0],num_data[:, 1], '*-')\n",
    "plt.show()"
   ]
  },
  {
   "cell_type": "code",
   "execution_count": 28,
   "metadata": {},
   "outputs": [
    {
     "name": "stdout",
     "output_type": "stream",
     "text": [
      "0.30128961248976766 0.330078125 1.0610764249917568 3.2794018009678605 2.439453125\n"
     ]
    },
    {
     "data": {
      "image/png": "[encoded data removed]",
      "text/plain": [
       "<Figure size 432x288 with 1 Axes>"
      ]
     },
     "metadata": {
      "needs_background": "light"
     },
     "output_type": "display_data"
    }
   ],
   "source": [
    "exp_data = np.zeros((15, 2))\n",
    "num_data = np.zeros((15, 2))\n",
    "\n",
    "exp_data[:, 0] = theta_vec\n",
    "exp_data[:, 1] = CHSH1_real\n",
    "\n",
    "num_data[:, 0] = theta_vec\n",
    "num_data[:, 1] = CHSH1_TR\n",
    "\n",
    "# quantify the difference between the two curves using PCM\n",
    "pcm = similaritymeasures.pcm(exp_data, num_data)\n",
    "\n",
    "# quantify the difference between the two curves using\n",
    "# Discrete Frechet distance\n",
    "df = similaritymeasures.frechet_dist(exp_data, num_data)\n",
    "\n",
    "# quantify the difference between the two curves using\n",
    "# area between two curves\n",
    "area = similaritymeasures.area_between_two_curves(exp_data, num_data)\n",
    "\n",
    "# quantify the difference between the two curves using\n",
    "# Curve Length based similarity measure\n",
    "cl = similaritymeasures.curve_length_measure(exp_data, num_data)\n",
    "\n",
    "# quantify the difference between the two curves using\n",
    "# Dynamic Time Warping distance\n",
    "dtw, d = similaritymeasures.dtw(exp_data, num_data)\n",
    "\n",
    "# print the results\n",
    "print(pcm, df, area, cl, dtw)\n",
    "\n",
    "# plot the data\n",
    "plt.figure()\n",
    "plt.plot(exp_data[:, 0], exp_data[:, 1], 'o-')\n",
    "plt.plot(num_data[:, 0],num_data[:, 1], '*-')\n",
    "plt.show()"
   ]
  },
  {
   "cell_type": "markdown",
   "metadata": {},
   "source": [
    "Now we plot the results."
   ]
  },
  {
   "cell_type": "code",
   "execution_count": 41,
   "metadata": {
    "tags": [
     "uses-hardware"
    ]
   },
   "outputs": [
    {
     "data": {
      "image/png": "[encoded data removed]",
      "text/plain": [
       "<Figure size 864x576 with 1 Axes>"
      ]
     },
     "metadata": {
      "needs_background": "light"
     },
     "output_type": "display_data"
    }
   ],
   "source": [
    "plt.figure(figsize=(12,8))\n",
    "plt.rcParams.update({'font.size': 22})\n",
    "plt.plot(theta_vec,CHSH1_ideal,'o-',label = 'CHSH Noiseless')\n",
    "#plt.plot(theta_vec,CHSH2_ideal,'o-',label = 'CHSH2 Noiseless')\n",
    "\n",
    "plt.plot(theta_vec,CHSH1_ND1,'*-',label = 'CHSH NoiseOP')\n",
    "#plt.plot(theta_vec,CHSH2_ND1,'*-',label = 'CHSH2 NoiseD1')\n",
    "\n",
    "\n",
    "#plt.plot(theta_vec,CHSH1_TR,'*-',label = 'CHSH NoiseTR')\n",
    "\n",
    "#plt.plot(theta_vec,CHSH1_NDD,'D-',label = 'CHSH NoiseSP')\n",
    "#plt.plot(theta_vec,CHSH2_NDD,'D-',label = 'CHSH2 NoiseDD')\n",
    "\n",
    "#plt.plot(theta_vec,CHSH1_NDA,'+-',label = 'CHSH NoiseAP')\n",
    "#plt.plot(theta_vec,CHSH2_NDA,'+-',label = 'CHSH2 NoiseDA')\n",
    "\n",
    "#plt.plot(theta_vec,CHSH1_real,'x-',label = 'CHSH IBMqx2_2')\n",
    "#plt.plot(theta_vec,CHSH2_real,'x-',label = 'CHSH2 IBMqx2')\n",
    "\n",
    "plt.plot(theta_vec,CHSH1_real,'x-',label = 'CHSH Belem_2')\n",
    "#plt.plot(theta_vec,CHSH2_real,'x-',label = 'CHSH2 Belem')\n",
    "\n",
    "plt.grid(which='major',axis='both')\n",
    "plt.rcParams.update({'font.size': 16})\n",
    "plt.legend()\n",
    "plt.axhline(y=2, color='r', linestyle='-')\n",
    "plt.axhline(y=-2, color='r', linestyle='-')\n",
    "plt.axhline(y=np.sqrt(2)*2, color='k', linestyle='-.')\n",
    "plt.axhline(y=-np.sqrt(2)*2, color='k', linestyle='-.')\n",
    "plt.xlabel('Theta')\n",
    "plt.ylabel('CHSH witness')\n",
    "plt.savefig(\"/Users/rgomezlu/Google_Drive/Màster/TFM/Programació/Plots/belem/CHSH/MEMORIA/NEW/OP2B\")\n",
    "#plt.savefig(\"/Users/rgomezlu/Google_Drive/Màster/TFM/Programació/Plots/yorktown/CHSH/MEMORIA/SP2Y\")"
   ]
  },
  {
   "cell_type": "markdown",
   "metadata": {},
   "source": [
    "Note what happened! There are some particular combination of measurement bases for which $|CHSH| \\geq 2$. How is this possible? Let's look at our entangled bipartite system. It is easy to show that if $|\\psi \\rangle = 1/\\sqrt{2} (|00\\rangle + |11\\rangle)$, then the expectation value $\\langle AB \\rangle = \\langle \\psi|A \\otimes B| \\psi \\rangle = -\\cos \\theta_{AB}$ where $\\theta_{AB}$ is the angle between the measurement bases $A$ and $B$. Therefore, for the particular choice of bases $A = 1/\\sqrt{2}(\\sigma_z - \\sigma_x)$ and $a = 1/\\sqrt{2}(\\sigma_z + \\sigma_x)$, letting Bob measure with $B=\\sigma_z$ and $b=\\sigma_x$, we see that $|\\langle CHSH1 \\rangle| = 2\\sqrt{2} > 2$. It can also be shown that $2\\sqrt{2}$ is the maximum possible value attainable, even in the quantum case (dash-dotted line in the plot).\n",
    "\n",
    "The above inequality is called CHSH after Clauser, Horne, Shimony, and Holt, and it is the most popular way of presenting the original inequality from Bell.\n",
    "\n",
    "The fact that we violated the CHSH inequality in our real device is of significance. Just a decade ago such an experiment would have been of great impact. Nowadays, quantum devices have become significantly better and these results can be replicated easily in state-of-the-art hardware. However, there are a number of loopholes that have to be closed when violating the inequality in order to claim that either locality or realism have been disproven. These are the detection loophole (where our detector is faulty and fails to provide meaningful statistics) and the locality/causality loophole (where the two parts of the entangled system are separated by a distance smaller than the distance covered by the light in the time it takes to perform a measurement). Given we can generate entangled pairs with high fidelity and every measurement yields a result (this is, no measured particle is \"lost\"), we have closed the detection loophole in our experiments above. However, given the distance between our qubits (a few mm) and the time it takes to perform a measurement (order of $\\mu$s), we cannot claim we closed the causality loophole."
   ]
  },
  {
   "cell_type": "markdown",
   "metadata": {},
   "source": [
    "### Exercise\n",
    "\n",
    "Consider a game where Alice and Bob are put in separate rooms and each is given a bit $x$ and $y$, respectively. These bits are chosen at random and independently of each other. On receiving the bit each of them replies with a bit of their own, $a$ and $b$. Now, Alice and Bob win the game if $a$ and $b$ are different whenever $x=y=1$ and equal otherwise. It is easy to see that the best possible strategy for Alice and Bob is to always give $a=b=0$ (or $1$). With this strategy, Alice and Bob can win the game at most 75% of the time. \n",
    "\n",
    "Imagine Alice and Bob are allowed to share an entangled two-qubit state. Is there a strategy they can use that would give them a better chance of winning than 75%? (Remember that they can agree upon any strategy beforehand, but once they are given the random bits they cannot communicate anymore. They can take their respective parts of the entangled pair with them at all times, of course.)"
   ]
  },
  {
   "cell_type": "markdown",
   "metadata": {},
   "source": [
    "## Chisquared test"
   ]
  },
  {
   "cell_type": "code",
   "execution_count": 30,
   "metadata": {},
   "outputs": [
    {
     "name": "stdout",
     "output_type": "stream",
     "text": [
      "Power_divergenceResult(statistic=-0.11817864046014093, pvalue=1.0)\n"
     ]
    }
   ],
   "source": [
    "import scipy\n",
    "from scipy.stats import chisquare\n",
    "\n",
    "s=chisquare(CHSH1_real,CHSH1_ND1)\n",
    "print(s)"
   ]
  },
  {
   "cell_type": "code",
   "execution_count": 31,
   "metadata": {},
   "outputs": [
    {
     "name": "stdout",
     "output_type": "stream",
     "text": [
      "Power_divergenceResult(statistic=-0.005571002270563092, pvalue=1.0)\n"
     ]
    }
   ],
   "source": [
    "s=chisquare(CHSH1_real,CHSH1_NDD)\n",
    "print(s)"
   ]
  },
  {
   "cell_type": "code",
   "execution_count": 32,
   "metadata": {},
   "outputs": [
    {
     "name": "stdout",
     "output_type": "stream",
     "text": [
      "Power_divergenceResult(statistic=-0.0727730161310539, pvalue=1.0)\n"
     ]
    }
   ],
   "source": [
    "s=chisquare(CHSH1_real,CHSH1_NDA)\n",
    "print(s)"
   ]
  },
  {
   "cell_type": "code",
   "execution_count": 33,
   "metadata": {},
   "outputs": [
    {
     "name": "stdout",
     "output_type": "stream",
     "text": [
      "Power_divergenceResult(statistic=-0.1228765691240396, pvalue=1.0)\n"
     ]
    }
   ],
   "source": [
    "s=chisquare(CHSH1_real,CHSH1_TR)\n",
    "print(s)"
   ]
  }
 ],
 "metadata": {
  "kernelspec": {
   "display_name": "Python 3",
   "language": "python",
   "name": "python3"
  },
  "language_info": {
   "codemirror_mode": {
    "name": "ipython",
    "version": 3
   },
   "file_extension": ".py",
   "mimetype": "text/x-python",
   "name": "python",
   "nbconvert_exporter": "python",
   "pygments_lexer": "ipython3",
   "version": "3.9.2"
  }
 },
 "nbformat": 4,
 "nbformat_minor": 2
}
